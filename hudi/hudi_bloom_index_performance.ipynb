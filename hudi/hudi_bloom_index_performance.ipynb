{
 "cells": [
  {
   "cell_type": "markdown",
   "id": "df7326a7",
   "metadata": {},
   "source": [
    "# Apache Hudi Bloom Index Performance Impact\n",
    "This notebook demonstrates the performance impact of using Bloom indexing in Apache Hudi with a large synthetic dataset."
   ]
  },
  {
   "cell_type": "code",
   "execution_count": 7,
   "id": "21de3261",
   "metadata": {},
   "outputs": [],
   "source": [
    "from pyspark.sql import SparkSession\n",
    "\n",
    "spark = SparkSession.builder \\\n",
    "    .appName(\"SimpleHudiCreate\") \\\n",
    "    .config(\"spark.serializer\", \"org.apache.spark.serializer.KryoSerializer\") \\\n",
    "    .config(\"spark.sql.extensions\", \"org.apache.spark.sql.hudi.HoodieSparkSessionExtension\") \\\n",
    "    .config(\"spark.sql.catalog.spark_catalog\", \"org.apache.spark.sql.hudi.catalog.HoodieCatalog\") \\\n",
    "    .getOrCreate()"
   ]
  },
  {
   "cell_type": "code",
   "execution_count": 8,
   "id": "e5f33491",
   "metadata": {},
   "outputs": [
    {
     "name": "stdout",
     "output_type": "stream",
     "text": [
      "+---+------+------------------+--------------------+\n",
      "| id|  name|             email|           timestamp|\n",
      "+---+------+------------------+--------------------+\n",
      "|  0|user_0|user_0@example.com|2025-07-14 14:46:...|\n",
      "|  1|user_1|user_1@example.com|2025-07-14 14:46:...|\n",
      "|  2|user_2|user_2@example.com|2025-07-14 14:46:...|\n",
      "|  3|user_3|user_3@example.com|2025-07-14 14:46:...|\n",
      "|  4|user_4|user_4@example.com|2025-07-14 14:46:...|\n",
      "+---+------+------------------+--------------------+\n",
      "only showing top 5 rows\n",
      "\n"
     ]
    }
   ],
   "source": [
    "from pyspark.sql.functions import expr\n",
    "\n",
    "def generate_large_dataset(num_records):\n",
    "    return spark.range(0, num_records).withColumn(\"name\", expr(\"concat('user_', id)\")) \\\n",
    "                                      .withColumn(\"email\", expr(\"concat('user_', id, '@example.com')\")) \\\n",
    "                                      .withColumn(\"timestamp\", expr(\"current_timestamp()\"))\n",
    "\n",
    "num_records = 1000000\n",
    "df = generate_large_dataset(num_records)\n",
    "df.show(5)"
   ]
  },
  {
   "cell_type": "code",
   "execution_count": 9,
   "id": "f2e01f1f",
   "metadata": {},
   "outputs": [],
   "source": [
    "def get_hudi_options(table_name, record_key, precombine_key, index_type):\n",
    "    return {\n",
    "        'hoodie.table.name': table_name,\n",
    "        'hoodie.datasource.write.recordkey.field': record_key,\n",
    "        'hoodie.datasource.write.precombine.field': precombine_key,\n",
    "        'hoodie.datasource.write.table.name': table_name,\n",
    "        'hoodie.datasource.write.operation': 'upsert',\n",
    "        'hoodie.datasource.write.storage.type': 'COPY_ON_WRITE',\n",
    "        'hoodie.datasource.write.index.type': index_type,\n",
    "        'hoodie.datasource.hive_sync.enable': 'false'\n",
    "    }"
   ]
  },
  {
   "cell_type": "code",
   "execution_count": 10,
   "id": "08c5caaa",
   "metadata": {},
   "outputs": [
    {
     "name": "stdout",
     "output_type": "stream",
     "text": [
      "Initial write with Bloom index took: 50.55580449104309 seconds\n"
     ]
    }
   ],
   "source": [
    "import time\n",
    "\n",
    "path_bloom = \"/home/jovyan/hudi/hudi_bloom_index\"\n",
    "start_bloom = time.time()\n",
    "df.write.format(\"org.apache.hudi\").options(**get_hudi_options(\"bloom_table\", \"id\", \"timestamp\", \"BLOOM\")).mode(\"overwrite\").save(path_bloom)\n",
    "end_bloom = time.time()\n",
    "print(\"Initial write with Bloom index took:\", end_bloom - start_bloom, \"seconds\")"
   ]
  },
  {
   "cell_type": "code",
   "execution_count": 5,
   "id": "31def3c3",
   "metadata": {},
   "outputs": [
    {
     "name": "stdout",
     "output_type": "stream",
     "text": [
      "Initial write with Simple index took: 54.582783699035645 seconds\n"
     ]
    }
   ],
   "source": [
    "path_simple = \"/home/jovyan/hudi/hudi_simple_index\"\n",
    "start_simple = time.time()\n",
    "df.write.format(\"org.apache.hudi\").options(**get_hudi_options(\"simple_table\", \"id\", \"timestamp\", \"SIMPLE\")).mode(\"overwrite\").save(path_simple)\n",
    "end_simple = time.time()\n",
    "print(\"Initial write with Simple index took:\", end_simple - start_simple, \"seconds\")"
   ]
  },
  {
   "cell_type": "code",
   "execution_count": 6,
   "id": "22013bf8",
   "metadata": {},
   "outputs": [
    {
     "name": "stdout",
     "output_type": "stream",
     "text": [
      "Upsert with Bloom index took: 70.63161420822144 seconds\n",
      "Upsert with Simple index took: 62.40643382072449 seconds\n"
     ]
    }
   ],
   "source": [
    "df_upsert = df.withColumn(\"email\", expr(\"concat('updated_', email)\"))\n",
    "\n",
    "start_upsert_bloom = time.time()\n",
    "df_upsert.write.format(\"org.apache.hudi\").options(**get_hudi_options(\"bloom_table\", \"id\", \"timestamp\", \"BLOOM\")).mode(\"append\").save(path_bloom)\n",
    "end_upsert_bloom = time.time()\n",
    "\n",
    "start_upsert_simple = time.time()\n",
    "df_upsert.write.format(\"org.apache.hudi\").options(**get_hudi_options(\"simple_table\", \"id\", \"timestamp\", \"SIMPLE\")).mode(\"append\").save(path_simple)\n",
    "end_upsert_simple = time.time()\n",
    "\n",
    "print(\"Upsert with Bloom index took:\", end_upsert_bloom - start_upsert_bloom, \"seconds\")\n",
    "print(\"Upsert with Simple index took:\", end_upsert_simple - start_upsert_simple, \"seconds\")"
   ]
  },
  {
   "cell_type": "markdown",
   "id": "9c56c889",
   "metadata": {},
   "source": [
    "## Conclusion\n",
    "This notebook demonstrates how Bloom indexing in Apache Hudi can significantly improve upsert performance compared to Simple indexing, especially on large datasets."
   ]
  }
 ],
 "metadata": {
  "kernelspec": {
   "display_name": "Python 3 (ipykernel)",
   "language": "python",
   "name": "python3"
  },
  "language_info": {
   "codemirror_mode": {
    "name": "ipython",
    "version": 3
   },
   "file_extension": ".py",
   "mimetype": "text/x-python",
   "name": "python",
   "nbconvert_exporter": "python",
   "pygments_lexer": "ipython3",
   "version": "3.11.10"
  }
 },
 "nbformat": 4,
 "nbformat_minor": 5
}
