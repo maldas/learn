{
 "cells": [
  {
   "cell_type": "code",
   "execution_count": 1,
   "id": "d890b934",
   "metadata": {},
   "outputs": [
    {
     "name": "stderr",
     "output_type": "stream",
     "text": [
      "----------------------------------------\n",
      "Exception occurred during processing of request from ('127.0.0.1', 55442)\n",
      "Traceback (most recent call last):\n",
      "  File \"/opt/conda/lib/python3.11/socketserver.py\", line 317, in _handle_request_noblock\n",
      "    self.process_request(request, client_address)\n",
      "  File \"/opt/conda/lib/python3.11/socketserver.py\", line 348, in process_request\n",
      "    self.finish_request(request, client_address)\n",
      "  File \"/opt/conda/lib/python3.11/socketserver.py\", line 361, in finish_request\n",
      "    self.RequestHandlerClass(request, client_address, self)\n",
      "  File \"/opt/conda/lib/python3.11/socketserver.py\", line 755, in __init__\n",
      "    self.handle()\n",
      "  File \"/usr/local/spark/python/pyspark/accumulators.py\", line 295, in handle\n",
      "    poll(accum_updates)\n",
      "  File \"/usr/local/spark/python/pyspark/accumulators.py\", line 267, in poll\n",
      "    if self.rfile in r and func():\n",
      "                           ^^^^^^\n",
      "  File \"/usr/local/spark/python/pyspark/accumulators.py\", line 271, in accum_updates\n",
      "    num_updates = read_int(self.rfile)\n",
      "                  ^^^^^^^^^^^^^^^^^^^^\n",
      "  File \"/usr/local/spark/python/pyspark/serializers.py\", line 596, in read_int\n",
      "    raise EOFError\n",
      "EOFError\n",
      "----------------------------------------\n"
     ]
    }
   ],
   "source": [
    "from pyspark.sql import SparkSession\n",
    "\n",
    "spark = SparkSession.builder \\\n",
    "    .appName(\"SimpleHudiCreate\") \\\n",
    "    .config(\"spark.serializer\", \"org.apache.spark.serializer.KryoSerializer\") \\\n",
    "    .config(\"spark.sql.extensions\", \"org.apache.spark.sql.hudi.HoodieSparkSessionExtension\") \\\n",
    "    .config(\"spark.sql.catalog.spark_catalog\", \"org.apache.spark.sql.hudi.catalog.HoodieCatalog\") \\\n",
    "    .getOrCreate()\n"
   ]
  },
  {
   "cell_type": "code",
   "execution_count": 2,
   "id": "2d446a4b",
   "metadata": {},
   "outputs": [],
   "source": [
    "from pyspark.sql import Row\n",
    "from datetime import datetime\n",
    "from pyspark.sql.functions import lit\n",
    "\n",
    "data = [\n",
    "    Row(id=1, name=\"Alice\", ts=datetime.now()),\n",
    "    Row(id=2, name=\"Bob\", ts=datetime.now())\n",
    "]\n",
    "\n",
    "df = spark.createDataFrame(data).withColumn(\"partition\", lit(\"2025\"))\n"
   ]
  },
  {
   "cell_type": "code",
   "execution_count": 3,
   "id": "65ed5396",
   "metadata": {},
   "outputs": [],
   "source": [
    "hudi_path = \"/home/jovyan/hudi/simple_hudi_table\"\n",
    "\n",
    "df.write.format(\"hudi\") \\\n",
    "    .option(\"hoodie.table.name\", \"simple_hudi_table\") \\\n",
    "    .option(\"hoodie.datasource.write.recordkey.field\", \"id\") \\\n",
    "    .option(\"hoodie.datasource.write.precombine.field\", \"ts\") \\\n",
    "    .option(\"hoodie.datasource.write.partitionpath.field\", \"partition\") \\\n",
    "    .option(\"hoodie.datasource.write.operation\", \"insert\") \\\n",
    "    .mode(\"overwrite\") \\\n",
    "    .save(hudi_path)\n"
   ]
  },
  {
   "cell_type": "code",
   "execution_count": 4,
   "id": "d31ce448",
   "metadata": {},
   "outputs": [
    {
     "name": "stdout",
     "output_type": "stream",
     "text": [
      "+-------------------+--------------------+------------------+----------------------+--------------------+---+-----+--------------------+---------+\n",
      "|_hoodie_commit_time|_hoodie_commit_seqno|_hoodie_record_key|_hoodie_partition_path|   _hoodie_file_name| id| name|                  ts|partition|\n",
      "+-------------------+--------------------+------------------+----------------------+--------------------+---+-----+--------------------+---------+\n",
      "|  20250712052738501|20250712052738501...|                 1|                  2025|f22f58b6-5e55-448...|  1|Alice|2025-07-12 05:27:...|     2025|\n",
      "|  20250712052738501|20250712052738501...|                 2|                  2025|f22f58b6-5e55-448...|  2|  Bob|2025-07-12 05:27:...|     2025|\n",
      "+-------------------+--------------------+------------------+----------------------+--------------------+---+-----+--------------------+---------+\n",
      "\n"
     ]
    }
   ],
   "source": [
    "df_read = spark.read.format(\"hudi\").load(hudi_path + \"/*\")\n",
    "df_read.show()\n"
   ]
  }
 ],
 "metadata": {
  "kernelspec": {
   "display_name": "Python 3 (ipykernel)",
   "language": "python",
   "name": "python3"
  }
 },
 "nbformat": 4,
 "nbformat_minor": 5
}
