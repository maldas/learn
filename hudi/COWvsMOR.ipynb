{
 "cells": [
  {
   "cell_type": "code",
   "execution_count": 1,
   "id": "cbbbb896-8aaf-4160-99d8-735f68dc9bac",
   "metadata": {},
   "outputs": [],
   "source": [
    "import os\n",
    "import shutil\n",
    "from pyspark.sql import SparkSession\n",
    "from pyspark.sql.functions import *"
   ]
  },
  {
   "cell_type": "code",
   "execution_count": 2,
   "id": "9425e60e-44aa-4a05-b280-4aa0e2455ae1",
   "metadata": {},
   "outputs": [],
   "source": [
    "spark = SparkSession.builder \\\n",
    "    .appName(\"SimpleHudiCreate\") \\\n",
    "    .config(\"spark.serializer\", \"org.apache.spark.serializer.KryoSerializer\") \\\n",
    "    .config(\"spark.sql.extensions\", \"org.apache.spark.sql.hudi.HoodieSparkSessionExtension\") \\\n",
    "    .config(\"spark.sql.catalog.spark_catalog\", \"org.apache.spark.sql.hudi.catalog.HoodieCatalog\") \\\n",
    "    .getOrCreate()\n"
   ]
  },
  {
   "cell_type": "code",
   "execution_count": 3,
   "id": "aa6f9247-bfe5-4b45-a7d9-bf72ba604b94",
   "metadata": {},
   "outputs": [],
   "source": [
    "# Function to calculate directory size\n",
    "def get_directory_size(directory):\n",
    "    total_size = 0\n",
    "    for dirpath, dirnames, filenames in os.walk(directory):\n",
    "        for f in filenames:\n",
    "            fp = os.path.join(dirpath, f)\n",
    "            total_size += os.path.getsize(fp)\n",
    "    return total_size / (1024 * 1024)  # Convert to MB"
   ]
  },
  {
   "cell_type": "code",
   "execution_count": 4,
   "id": "1df9e49f-a11e-491f-9053-4548f2e7c7f7",
   "metadata": {},
   "outputs": [],
   "source": [
    "# Initial Data\n",
    "initial_data = spark.createDataFrame([\n",
    "    (1, \"Alice\", 5000),\n",
    "    (2, \"Bob\", 6000),\n",
    "    (3, \"Charlie\", 5500)\n",
    "], [\"id\", \"name\", \"amount\"])"
   ]
  },
  {
   "cell_type": "code",
   "execution_count": 8,
   "id": "9ec7e96c-5e25-4c6b-8f51-7a389d3a8c65",
   "metadata": {},
   "outputs": [
    {
     "name": "stdout",
     "output_type": "stream",
     "text": [
      "+---+-------+------+\n",
      "| id|   name|amount|\n",
      "+---+-------+------+\n",
      "|  1|  Alice|  5000|\n",
      "|  2|    Bob|  6000|\n",
      "|  3|Charlie|  5500|\n",
      "+---+-------+------+\n",
      "\n"
     ]
    }
   ],
   "source": [
    "initial_data.show()"
   ]
  },
  {
   "cell_type": "code",
   "execution_count": 9,
   "id": "dffe996b-9f78-4961-a9b1-302fe00d72b3",
   "metadata": {},
   "outputs": [],
   "source": [
    "# CoW Table Configuration\n",
    "cow_options = {\n",
    "    'hoodie.table.name': 'cow_storage_table',\n",
    "    'hoodie.datasource.write.table.type': 'COPY_ON_WRITE',\n",
    "    'hoodie.datasource.write.recordkey.field': 'id',\n",
    "    'hoodie.datasource.write.precombine.field': 'amount'\n",
    "}\n",
    "\n",
    "# MoR Table Configuration\n",
    "mor_options = {\n",
    "    'hoodie.table.name': 'mor_storage_table',\n",
    "    'hoodie.datasource.write.table.type': 'MERGE_ON_READ',\n",
    "    'hoodie.datasource.write.recordkey.field': 'id',\n",
    "    'hoodie.datasource.write.precombine.field': 'amount'\n",
    "}"
   ]
  },
  {
   "cell_type": "code",
   "execution_count": 14,
   "id": "d5f05186-783b-4507-b69e-623251d18959",
   "metadata": {},
   "outputs": [],
   "source": [
    "base_path = \"/home/jovyan/hudi\"\n",
    "\n",
    "# Paths for storage analysis\n",
    "cow_path = f\"{base_path}/cow_storage\"\n",
    "mor_path = f\"{base_path}/mor_storage\""
   ]
  },
  {
   "cell_type": "code",
   "execution_count": 15,
   "id": "74f7afb5-8ddd-468f-bcb8-e381e41710fe",
   "metadata": {},
   "outputs": [],
   "source": [
    "# Clean previous runs\n",
    "shutil.rmtree(cow_path, ignore_errors=True)\n",
    "shutil.rmtree(mor_path, ignore_errors=True)"
   ]
  },
  {
   "cell_type": "code",
   "execution_count": 16,
   "id": "ab744e20-00aa-483c-a7c8-d6c1523f7568",
   "metadata": {},
   "outputs": [],
   "source": [
    "# Initial Write\n",
    "initial_data.write \\\n",
    "    .format(\"hudi\") \\\n",
    "    .options(**cow_options) \\\n",
    "    .mode(\"overwrite\") \\\n",
    "    .save(cow_path)\n",
    "\n",
    "initial_data.write \\\n",
    "    .format(\"hudi\") \\\n",
    "    .options(**mor_options) \\\n",
    "    .mode(\"overwrite\") \\\n",
    "    .save(mor_path)"
   ]
  },
  {
   "cell_type": "code",
   "execution_count": 17,
   "id": "f66156b8-23b4-4702-baa1-d18c31329d61",
   "metadata": {},
   "outputs": [],
   "source": [
    "# Upsert Data\n",
    "upsert_data = spark.createDataFrame([\n",
    "    (2, \"Bob Updated\", 7000),  # Update existing\n",
    "    (4, \"David\", 5200)         # New record\n",
    "], [\"id\", \"name\", \"amount\"])"
   ]
  },
  {
   "cell_type": "code",
   "execution_count": 18,
   "id": "5809899c-8e42-468b-b547-1af7fda71728",
   "metadata": {},
   "outputs": [],
   "source": [
    "# Perform Upserts\n",
    "upsert_data.write \\\n",
    "    .format(\"hudi\") \\\n",
    "    .options(**cow_options) \\\n",
    "    .mode(\"append\") \\\n",
    "    .save(cow_path)\n",
    "\n",
    "upsert_data.write \\\n",
    "    .format(\"hudi\") \\\n",
    "    .options(**mor_options) \\\n",
    "    .mode(\"append\") \\\n",
    "    .save(mor_path)"
   ]
  },
  {
   "cell_type": "code",
   "execution_count": 20,
   "id": "9633809e-adf0-484d-a6aa-5afd1bdc70ce",
   "metadata": {},
   "outputs": [],
   "source": [
    "# Storage Analysis\n",
    "cow_storage = get_directory_size(cow_path)\n",
    "mor_storage = get_directory_size(mor_path)\n",
    "# File Count Analysis\n",
    "cow_files = len(spark.read.format(\"hudi\").load(cow_path).inputFiles())\n",
    "mor_files = len(spark.read.format(\"hudi\").load(mor_path).inputFiles())"
   ]
  },
  {
   "cell_type": "code",
   "execution_count": 21,
   "id": "8ffbdffb-e056-4212-97ae-942a4471abb5",
   "metadata": {},
   "outputs": [
    {
     "name": "stdout",
     "output_type": "stream",
     "text": [
      "📊 Storage Impact Analysis\n",
      "----------------------------------------\n",
      "COPY_ON_WRITE Storage: 0.99 MB\n",
      "MERGE_ON_READ Storage: 0.99 MB\n",
      "\n",
      "🗂️ File Count Analysis\n",
      "----------------------------------------\n",
      "COPY_ON_WRITE Files: 1\n",
      "MERGE_ON_READ Files: 1\n"
     ]
    }
   ],
   "source": [
    "# Reporting\n",
    "print(\"📊 Storage Impact Analysis\")\n",
    "print(\"-\" * 40)\n",
    "print(f\"COPY_ON_WRITE Storage: {cow_storage:.2f} MB\")\n",
    "print(f\"MERGE_ON_READ Storage: {mor_storage:.2f} MB\")\n",
    "print(\"\\n🗂️ File Count Analysis\")\n",
    "print(\"-\" * 40)\n",
    "print(f\"COPY_ON_WRITE Files: {cow_files}\")\n",
    "print(f\"MERGE_ON_READ Files: {mor_files}\")"
   ]
  },
  {
   "cell_type": "code",
   "execution_count": 22,
   "id": "11dd6a97-9a32-4500-b834-b491992bf040",
   "metadata": {},
   "outputs": [
    {
     "name": "stdout",
     "output_type": "stream",
     "text": [
      "\n",
      "📁 CoW Files:\n",
      "file:/home/jovyan/hudi/cow_storage/be7cfb4c-a047-48c3-8c58-c318290c9a6b-0_0-94-90_20250714081608124.parquet\n",
      "\n",
      "📁 MoR Files:\n",
      "file:/home/jovyan/hudi/mor_storage/2cd8f308-5e80-4459-a8a9-bee15a18d448-0_0-121-117_20250714081612603.parquet\n"
     ]
    }
   ],
   "source": [
    "# Detailed File Listing\n",
    "print(\"\\n📁 CoW Files:\")\n",
    "for file in spark.read.format(\"hudi\").load(cow_path).inputFiles():\n",
    "    print(file)\n",
    "\n",
    "print(\"\\n📁 MoR Files:\")\n",
    "for file in spark.read.format(\"hudi\").load(mor_path).inputFiles():\n",
    "    print(file)"
   ]
  }
 ],
 "metadata": {
  "kernelspec": {
   "display_name": "Python 3 (ipykernel)",
   "language": "python",
   "name": "python3"
  },
  "language_info": {
   "codemirror_mode": {
    "name": "ipython",
    "version": 3
   },
   "file_extension": ".py",
   "mimetype": "text/x-python",
   "name": "python",
   "nbconvert_exporter": "python",
   "pygments_lexer": "ipython3",
   "version": "3.11.10"
  }
 },
 "nbformat": 4,
 "nbformat_minor": 5
}
