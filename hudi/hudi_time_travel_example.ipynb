{
 "cells": [
  {
   "cell_type": "markdown",
   "id": "189f8978",
   "metadata": {},
   "source": [
    "# Apache Hudi Time Travel Queries Example\n",
    "\n",
    "This notebook demonstrates how to use **Time Travel Queries** in Apache Hudi using PySpark. We will:\n",
    "\n",
    "- Generate a large synthetic dataset\n",
    "- Create a Hudi table\n",
    "- Perform multiple upserts\n",
    "- Capture commit timestamps\n",
    "- Query historical versions of the data using `as.of.instant`"
   ]
  },
  {
   "cell_type": "code",
   "execution_count": 6,
   "id": "83e7109d",
   "metadata": {},
   "outputs": [],
   "source": [
    "from pyspark.sql import SparkSession\n",
    "\n",
    "spark = SparkSession.builder \\\n",
    "    .appName(\"SimpleHudiCreate\") \\\n",
    "    .config(\"spark.serializer\", \"org.apache.spark.serializer.KryoSerializer\") \\\n",
    "    .config(\"spark.sql.extensions\", \"org.apache.spark.sql.hudi.HoodieSparkSessionExtension\") \\\n",
    "    .config(\"spark.sql.catalog.spark_catalog\", \"org.apache.spark.sql.hudi.catalog.HoodieCatalog\") \\\n",
    "    .getOrCreate()"
   ]
  },
  {
   "cell_type": "code",
   "execution_count": 7,
   "id": "4cf75bdc",
   "metadata": {},
   "outputs": [],
   "source": [
    "from datetime import datetime\n",
    "from pyspark.sql.functions import lit\n",
    "import uuid\n",
    "\n",
    "def generate_data(start_id, count, name_prefix):\n",
    "    return spark.range(start_id, start_id + count) \\\n",
    "        .withColumn(\"name\", lit(name_prefix)) \\\n",
    "        .withColumn(\"ts\", lit(datetime.now().isoformat())) \\\n",
    "        .withColumn(\"uuid\", lit(str(uuid.uuid4())))"
   ]
  },
  {
   "cell_type": "code",
   "execution_count": 8,
   "id": "f24605e1",
   "metadata": {},
   "outputs": [],
   "source": [
    "base_path = \"/home/jovyan/hudi\"\n",
    "table_name = \"hudi_time_travel_table\""
   ]
  },
  {
   "cell_type": "code",
   "execution_count": 9,
   "id": "0bd1939c",
   "metadata": {},
   "outputs": [],
   "source": [
    "df_initial = generate_data(0, 1000000, \"initial\")\n",
    "\n",
    "df_initial.write.format(\"hudi\") \\\n",
    "    .option(\"hoodie.table.name\", table_name) \\\n",
    "    .option(\"hoodie.datasource.write.recordkey.field\", \"id\") \\\n",
    "    .option(\"hoodie.datasource.write.precombine.field\", \"ts\") \\\n",
    "    .option(\"hoodie.datasource.write.operation\", \"insert\") \\\n",
    "    .option(\"hoodie.datasource.write.table.type\", \"COPY_ON_WRITE\") \\\n",
    "    .mode(\"overwrite\") \\\n",
    "    .save(base_path)"
   ]
  },
  {
   "cell_type": "code",
   "execution_count": 10,
   "id": "3a0b2e54",
   "metadata": {},
   "outputs": [
    {
     "name": "stdout",
     "output_type": "stream",
     "text": [
      "First commit time: 20250714160208465\n"
     ]
    }
   ],
   "source": [
    "commits = spark.read.format(\"hudi\").load(base_path) \\\n",
    "    .select(\"_hoodie_commit_time\").distinct().orderBy(\"_hoodie_commit_time\", ascending=True)\n",
    "\n",
    "commit_times = [row[\"_hoodie_commit_time\"] for row in commits.collect()]\n",
    "first_commit = commit_times[0]\n",
    "print(\"First commit time:\", first_commit)"
   ]
  },
  {
   "cell_type": "code",
   "execution_count": 11,
   "id": "1468f0ab",
   "metadata": {},
   "outputs": [],
   "source": [
    "import time\n",
    "time.sleep(2)\n",
    "\n",
    "df_upsert = generate_data(500000, 100000, \"upserted\")\n",
    "\n",
    "df_upsert.write.format(\"hudi\") \\\n",
    "    .option(\"hoodie.table.name\", table_name) \\\n",
    "    .option(\"hoodie.datasource.write.recordkey.field\", \"id\") \\\n",
    "    .option(\"hoodie.datasource.write.precombine.field\", \"ts\") \\\n",
    "    .option(\"hoodie.datasource.write.operation\", \"upsert\") \\\n",
    "    .mode(\"append\") \\\n",
    "    .save(base_path)"
   ]
  },
  {
   "cell_type": "code",
   "execution_count": 12,
   "id": "d71bedba",
   "metadata": {},
   "outputs": [
    {
     "name": "stdout",
     "output_type": "stream",
     "text": [
      "Second commit time: 20250714160302927\n"
     ]
    }
   ],
   "source": [
    "commits = spark.read.format(\"hudi\").load(base_path) \\\n",
    "    .select(\"_hoodie_commit_time\").distinct().orderBy(\"_hoodie_commit_time\", ascending=True)\n",
    "\n",
    "commit_times = [row[\"_hoodie_commit_time\"] for row in commits.collect()]\n",
    "second_commit = commit_times[-1]\n",
    "print(\"Second commit time:\", second_commit)"
   ]
  },
  {
   "cell_type": "code",
   "execution_count": 13,
   "id": "0e836bac",
   "metadata": {},
   "outputs": [
    {
     "name": "stdout",
     "output_type": "stream",
     "text": [
      "Record count at first commit: 1000000\n"
     ]
    }
   ],
   "source": [
    "df_first_version = spark.read.format(\"hudi\") \\\n",
    "    .option(\"as.of.instant\", first_commit) \\\n",
    "    .load(base_path)\n",
    "\n",
    "print(\"Record count at first commit:\", df_first_version.count())"
   ]
  },
  {
   "cell_type": "code",
   "execution_count": 14,
   "id": "f3b47ae0",
   "metadata": {},
   "outputs": [
    {
     "name": "stdout",
     "output_type": "stream",
     "text": [
      "Record count at second commit: 1000000\n"
     ]
    }
   ],
   "source": [
    "df_second_version = spark.read.format(\"hudi\") \\\n",
    "    .option(\"as.of.instant\", second_commit) \\\n",
    "    .load(base_path)\n",
    "\n",
    "print(\"Record count at second commit:\", df_second_version.count())"
   ]
  }
 ],
 "metadata": {
  "kernelspec": {
   "display_name": "Python 3 (ipykernel)",
   "language": "python",
   "name": "python3"
  }
 },
 "nbformat": 4,
 "nbformat_minor": 5
}
