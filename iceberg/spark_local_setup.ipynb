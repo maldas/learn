{
 "cells": [
  {
   "cell_type": "markdown",
   "id": "47361a01",
   "metadata": {},
   "source": [
    "# Spark Local Setup for Apache Iceberg\n",
    "This notebook sets up a local Spark session with Iceberg support."
   ]
  },
  {
   "cell_type": "code",
   "execution_count": 7,
   "id": "a616b052",
   "metadata": {},
   "outputs": [
    {
     "name": "stdout",
     "output_type": "stream",
     "text": [
      "✅ SparkSession initialized with local Iceberg Hadoop catalog\n"
     ]
    }
   ],
   "source": [
    "from pyspark.sql import SparkSession\n",
    "import os\n",
    "\n",
    "# Ensure the warehouse path exists\n",
    "warehouse_path = \"/home/jovyan/iceberg/warehouse\"\n",
    "os.makedirs(warehouse_path, exist_ok=True)\n",
    "\n",
    "# Initialize SparkSession with HadoopCatalog\n",
    "spark = SparkSession.builder \\\n",
    "    .appName(\"IcebergLocalSetup\") \\\n",
    "    .config(\"spark.sql.catalog.local\", \"org.apache.iceberg.spark.SparkCatalog\") \\\n",
    "    .config(\"spark.sql.catalog.local.type\", \"hadoop\") \\\n",
    "    .config(\"spark.sql.catalog.local.warehouse\", warehouse_path) \\\n",
    "    .getOrCreate()\n",
    "\n",
    "spark.sparkContext.setLogLevel(\"WARN\")\n",
    "print(\"✅ SparkSession initialized with local Iceberg Hadoop catalog\")\n"
   ]
  },
  {
   "cell_type": "code",
   "execution_count": 8,
   "id": "640a8d76",
   "metadata": {},
   "outputs": [
    {
     "name": "stdout",
     "output_type": "stream",
     "text": [
      "spark.sql.catalog.local.warehouse = /home/jovyan/iceberg/warehouse\n",
      "spark.sql.catalog.local.type = hadoop\n",
      "spark.sql.catalog.local = org.apache.iceberg.spark.SparkCatalog\n"
     ]
    }
   ],
   "source": [
    "# Optional: List available catalogs and configurations\n",
    "for k, v in spark.sparkContext.getConf().getAll():\n",
    "    if 'catalog' in k:\n",
    "        print(f\"{k} = {v}\")"
   ]
  },
  {
   "cell_type": "code",
   "execution_count": null,
   "id": "29ba0de6",
   "metadata": {},
   "outputs": [
    {
     "name": "stdout",
     "output_type": "stream",
     "text": [
      "✅ Sample table 'local.db.sample_table' created successfully\n"
     ]
    }
   ],
   "source": [
    "spark.sql(\"\"\"\n",
    "    CREATE TABLE IF NOT EXISTS local.db.sample_table (\n",
    "        id INT,\n",
    "        name STRING,\n",
    "        created_at TIMESTAMP\n",
    "    ) USING iceberg\n",
    "\"\"\")\n",
    "print(\"✅ Sample table 'local.db.sample_table' created successfully\")"
   ]
  },
  {
   "cell_type": "code",
   "execution_count": null,
   "id": "6d989697",
   "metadata": {},
   "outputs": [
    {
     "name": "stdout",
     "output_type": "stream",
     "text": [
      "+---+-----+--------------------+\n",
      "| id| name|          created_at|\n",
      "+---+-----+--------------------+\n",
      "|  1|Alice|2025-07-10 07:26:...|\n",
      "|  1|Alice|2025-07-10 07:49:...|\n",
      "+---+-----+--------------------+\n",
      "\n"
     ]
    }
   ],
   "source": [
    "spark.sql(\"INSERT INTO local.db.sample_table VALUES (1, 'Alice', current_timestamp())\")\n",
    "df = spark.sql(\"SELECT * FROM local.db.sample_table\")\n",
    "df.show()"
   ]
  },
  {
   "cell_type": "code",
   "execution_count": null,
   "id": "17bd1b47",
   "metadata": {},
   "outputs": [],
   "source": []
  }
 ],
 "metadata": {
  "kernelspec": {
   "display_name": "Python 3 (ipykernel)",
   "language": "python",
   "name": "python3"
  },
  "language_info": {
   "codemirror_mode": {
    "name": "ipython",
    "version": 3
   },
   "file_extension": ".py",
   "mimetype": "text/x-python",
   "name": "python",
   "nbconvert_exporter": "python",
   "pygments_lexer": "ipython3",
   "version": "3.11.6"
  }
 },
 "nbformat": 4,
 "nbformat_minor": 5
}
