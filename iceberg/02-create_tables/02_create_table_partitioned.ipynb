{
 "cells": [
  {
   "cell_type": "markdown",
   "id": "0db3c64c",
   "metadata": {},
   "source": [
    "## Partitioned Table Example\n",
    "\n",
    "This section demonstrates how to create a partitioned Iceberg table using Spark, insert data, and read it back.\n",
    "\n",
    "\n",
    "### 1. Create a DataFrame and Write as a Partitioned Table\n",
    "\n",
    "We create a simple DataFrame and write it to an Iceberg table partitioned by the `region` column.\n",
    "\n"
   ]
  },
  {
   "cell_type": "code",
   "execution_count": null,
   "id": "6ec39447",
   "metadata": {},
   "outputs": [],
   "source": [
    "\n",
    "# Partitioned Table Example\n",
    "data = [(1, \"Alice\", \"North\"), (2, \"Bob\", \"South\"), (3, \"Charlie\", \"North\"), (4, \"David\", \"West\")]\n",
    "columns = [\"id\", \"name\", \"region\"]\n",
    "df = spark.createDataFrame(data, columns)\n",
    "df.show()\n",
    "\n",
    "# Create partitioned Iceberg table\n",
    "df.writeTo(\"local.db.people_partitioned\") \\\n",
    "    .using(\"iceberg\") \\\n",
    "    .partitionedBy(\"region\") \\\n",
    "    .tableProperty(\"format-version\", \"2\") \\\n",
    "    .createOrReplace()\n",
    "\n",
    "# Read back\n",
    "spark.read.table(\"local.db.people_partitioned\").show()\n",
    "#%% vscode.cell [id=05eac783] [language=python]\n",
    "spark.sql(\"DESCRIBE TABLE EXTENDED local.db.people_partitioned\").show(truncate=False)\n",
    "\n",
    "#%% vscode.cell [id=cd168c4f] [language=python]\n",
    "spark.read.table(\"local.db.people_partitioned\") \\\n",
    "    .select(\"region\") \\\n",
    "    .distinct() \\\n",
    "    .show()"
   ]
  },
  {
   "cell_type": "markdown",
   "id": "24ada40a",
   "metadata": {},
   "source": [
    "### 2. Inspect Table Schema and Partitioning\n",
    "\n",
    "We use `DESCRIBE TABLE EXTENDED` to view the schema, partitioning, and table properties."
   ]
  },
  {
   "cell_type": "code",
   "execution_count": null,
   "id": "7fa8b342",
   "metadata": {},
   "outputs": [],
   "source": [
    "# Partitioned Table Example\n",
    "data = [(1, \"Alice\", \"North\"), (2, \"Bob\", \"South\"), (3, \"Charlie\", \"North\"), (4, \"David\", \"West\")]\n",
    "columns = [\"id\", \"name\", \"region\"]\n",
    "df = spark.createDataFrame(data, columns)\n",
    "df.show()\n",
    "\n",
    "# Create partitioned Iceberg table\n",
    "df.writeTo(\"local.db.people_partitioned\") \\\n",
    "    .using(\"iceberg\") \\\n",
    "    .partitionedBy(\"region\") \\\n",
    "    .tableProperty(\"format-version\", \"2\") \\\n",
    "    .createOrReplace()\n",
    "\n",
    "# Read back\n",
    "spark.read.table(\"local.db.people_partitioned\").show()"
   ]
  },
  {
   "cell_type": "markdown",
   "id": "908b90d9",
   "metadata": {},
   "source": [
    "### 3. List Distinct Partition Values\n",
    "\n",
    "We list the distinct values in the `region` column to see the available partitions."
   ]
  },
  {
   "cell_type": "code",
   "execution_count": null,
   "id": "656aa015",
   "metadata": {},
   "outputs": [],
   "source": [
    "spark.sql(\"DESCRIBE TABLE EXTENDED local.db.people_partitioned\").show(truncate=False)\n"
   ]
  },
  {
   "cell_type": "markdown",
   "id": "43a6d4f7",
   "metadata": {},
   "source": [
    "### 4. (Optional) Query by Partition\n",
    "\n",
    "You can query data for a specific partition to demonstrate partition pruning."
   ]
  },
  {
   "cell_type": "code",
   "execution_count": null,
   "id": "d3a5195b",
   "metadata": {},
   "outputs": [],
   "source": [
    "spark.read.table(\"local.db.people_partitioned\") \\\n",
    "    .select(\"region\") \\\n",
    "    .distinct() \\\n",
    "    .show()"
   ]
  }
 ],
 "metadata": {
  "kernelspec": {
   "display_name": "Python 3 (ipykernel)",
   "language": "python",
   "name": "python3"
  },
  "language_info": {
   "codemirror_mode": {
    "name": "ipython",
    "version": 3
   },
   "file_extension": ".py",
   "mimetype": "text/x-python",
   "name": "python",
   "nbconvert_exporter": "python",
   "pygments_lexer": "ipython3",
   "version": "3.11.6"
  }
 },
 "nbformat": 4,
 "nbformat_minor": 5
}
