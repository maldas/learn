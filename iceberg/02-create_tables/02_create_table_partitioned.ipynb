{
 "cells": [
  {
   "cell_type": "code",
   "execution_count": 13,
   "id": "7fa8b342",
   "metadata": {},
   "outputs": [
    {
     "name": "stdout",
     "output_type": "stream",
     "text": [
      "+---+-------+------+\n",
      "| id|   name|region|\n",
      "+---+-------+------+\n",
      "|  1|  Alice| North|\n",
      "|  2|    Bob| South|\n",
      "|  3|Charlie| North|\n",
      "|  4|  David|  West|\n",
      "+---+-------+------+\n",
      "\n",
      "+---+-------+------+\n",
      "| id|   name|region|\n",
      "+---+-------+------+\n",
      "|  4|  David|  West|\n",
      "|  2|    Bob| South|\n",
      "|  1|  Alice| North|\n",
      "|  3|Charlie| North|\n",
      "+---+-------+------+\n",
      "\n"
     ]
    }
   ],
   "source": [
    "# Partitioned Table Example\n",
    "data = [(1, \"Alice\", \"North\"), (2, \"Bob\", \"South\"), (3, \"Charlie\", \"North\"), (4, \"David\", \"West\")]\n",
    "columns = [\"id\", \"name\", \"region\"]\n",
    "df = spark.createDataFrame(data, columns)\n",
    "df.show()\n",
    "\n",
    "# Create partitioned Iceberg table\n",
    "df.writeTo(\"local.db.people_partitioned\") \\\n",
    "    .using(\"iceberg\") \\\n",
    "    .partitionedBy(\"region\") \\\n",
    "    .tableProperty(\"format-version\", \"2\") \\\n",
    "    .createOrReplace()\n",
    "\n",
    "# Read back\n",
    "spark.read.table(\"local.db.people_partitioned\").show()"
   ]
  },
  {
   "cell_type": "code",
   "execution_count": null,
   "id": "a4a1ec40",
   "metadata": {},
   "outputs": [],
   "source": []
  },
  {
   "cell_type": "code",
   "execution_count": 16,
   "id": "656aa015",
   "metadata": {},
   "outputs": [
    {
     "name": "stdout",
     "output_type": "stream",
     "text": [
      "+----------------------------+----------------------------------------------------+-------+\n",
      "|col_name                    |data_type                                           |comment|\n",
      "+----------------------------+----------------------------------------------------+-------+\n",
      "|id                          |bigint                                              |NULL   |\n",
      "|name                        |string                                              |NULL   |\n",
      "|region                      |string                                              |NULL   |\n",
      "|# Partition Information     |                                                    |       |\n",
      "|# col_name                  |data_type                                           |comment|\n",
      "|region                      |string                                              |NULL   |\n",
      "|                            |                                                    |       |\n",
      "|# Metadata Columns          |                                                    |       |\n",
      "|_spec_id                    |int                                                 |       |\n",
      "|_partition                  |struct<region:string>                               |       |\n",
      "|_file                       |string                                              |       |\n",
      "|_pos                        |bigint                                              |       |\n",
      "|_deleted                    |boolean                                             |       |\n",
      "|                            |                                                    |       |\n",
      "|# Detailed Table Information|                                                    |       |\n",
      "|Name                        |local.db.people_partitioned                         |       |\n",
      "|Type                        |MANAGED                                             |       |\n",
      "|Location                    |/home/jovyan/iceberg/warehouse/db/people_partitioned|       |\n",
      "|Provider                    |iceberg                                             |       |\n",
      "|Owner                       |jovyan                                              |       |\n",
      "+----------------------------+----------------------------------------------------+-------+\n",
      "only showing top 20 rows\n",
      "\n"
     ]
    }
   ],
   "source": [
    "spark.sql(\"DESCRIBE TABLE EXTENDED local.db.people_partitioned\").show(truncate=False)\n"
   ]
  },
  {
   "cell_type": "code",
   "execution_count": 17,
   "id": "d3a5195b",
   "metadata": {},
   "outputs": [
    {
     "name": "stdout",
     "output_type": "stream",
     "text": [
      "+------+\n",
      "|region|\n",
      "+------+\n",
      "| South|\n",
      "|  West|\n",
      "| North|\n",
      "+------+\n",
      "\n"
     ]
    }
   ],
   "source": [
    "spark.read.table(\"local.db.people_partitioned\") \\\n",
    "    .select(\"region\") \\\n",
    "    .distinct() \\\n",
    "    .show()\n"
   ]
  }
 ],
 "metadata": {
  "kernelspec": {
   "display_name": "Python 3 (ipykernel)",
   "language": "python",
   "name": "python3"
  },
  "language_info": {
   "codemirror_mode": {
    "name": "ipython",
    "version": 3
   },
   "file_extension": ".py",
   "mimetype": "text/x-python",
   "name": "python",
   "nbconvert_exporter": "python",
   "pygments_lexer": "ipython3",
   "version": "3.11.6"
  }
 },
 "nbformat": 4,
 "nbformat_minor": 5
}
