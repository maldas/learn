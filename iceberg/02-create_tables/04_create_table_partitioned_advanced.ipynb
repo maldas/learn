{
 "cells": [
  {
   "cell_type": "code",
   "execution_count": 20,
   "id": "01224b29",
   "metadata": {},
   "outputs": [
    {
     "name": "stdout",
     "output_type": "stream",
     "text": [
      "+---+------+------+\n",
      "| id|region|amount|\n",
      "+---+------+------+\n",
      "|  2| South|300.25|\n",
      "|  1| North|250.75|\n",
      "|  3| North| 150.0|\n",
      "+---+------+------+\n",
      "\n"
     ]
    }
   ],
   "source": [
    "# Partitioned Table (region)\n",
    "spark.sql(\"\"\"\n",
    "CREATE TABLE local.db.sales_by_region (\n",
    "    id INT,\n",
    "    region STRING,\n",
    "    amount DOUBLE\n",
    ")\n",
    "USING ICEBERG\n",
    "PARTITIONED BY (region)\n",
    "TBLPROPERTIES ('format-version' = '2')\n",
    "\"\"\")\n",
    "spark.sql(\"\"\"\n",
    "INSERT INTO local.db.sales_by_region VALUES\n",
    "(1, 'North', 250.75),\n",
    "(2, 'South', 300.25),\n",
    "(3, 'North', 150.00)\n",
    "\"\"\")\n",
    "spark.sql(\"\"\"SELECT * FROM local.db.sales_by_region\"\"\").show()\n"
   ]
  },
  {
   "cell_type": "code",
   "execution_count": 22,
   "id": "3731ef2e",
   "metadata": {},
   "outputs": [
    {
     "name": "stdout",
     "output_type": "stream",
     "text": [
      "+---+-------+----------+\n",
      "| id| amount| sale_date|\n",
      "+---+-------+----------+\n",
      "|  1| 1200.0|2024-01-15|\n",
      "|  2| 1300.5|2024-01-22|\n",
      "|  3|1150.75|2024-02-05|\n",
      "+---+-------+----------+\n",
      "\n"
     ]
    }
   ],
   "source": [
    "# Partitioned by months(sale_date)\n",
    "spark.sql(\"\"\"\n",
    "CREATE TABLE local.db.monthly_sales (\n",
    "    id INT,\n",
    "    amount DOUBLE,\n",
    "    sale_date DATE\n",
    ")\n",
    "USING ICEBERG\n",
    "PARTITIONED BY (months(sale_date))\n",
    "TBLPROPERTIES ('format-version' = '2')\n",
    "\"\"\")\n",
    "spark.sql(\"\"\"\n",
    "INSERT INTO local.db.monthly_sales VALUES\n",
    "(1, 1200.00, DATE '2024-01-15'),\n",
    "(2, 1300.50, DATE '2024-01-22'),\n",
    "(3, 1150.75, DATE '2024-02-05')\n",
    "\"\"\")\n",
    "spark.sql(\"\"\"SELECT * FROM local.db.monthly_sales\"\"\").show()\n"
   ]
  },
  {
   "cell_type": "code",
   "execution_count": 23,
   "id": "62d6c322",
   "metadata": {},
   "outputs": [
    {
     "name": "stdout",
     "output_type": "stream",
     "text": [
      "+---+------+------+----------+\n",
      "| id|region|amount| sale_date|\n",
      "+---+------+------+----------+\n",
      "|  1|  East| 150.0|2024-01-01|\n",
      "|  2|  East| 180.0|2024-01-15|\n",
      "|  3|  West| 210.0|2024-02-01|\n",
      "+---+------+------+----------+\n",
      "\n"
     ]
    }
   ],
   "source": [
    "# Multi-Column Partitioning (region, month)\n",
    "spark.sql(\"\"\"\n",
    "CREATE TABLE local.db.sales_by_region_and_month (\n",
    "    id INT,\n",
    "    region STRING,\n",
    "    amount DOUBLE,\n",
    "    sale_date DATE\n",
    ")\n",
    "USING ICEBERG\n",
    "PARTITIONED BY (region, months(sale_date))\n",
    "TBLPROPERTIES ('format-version' = '2')\n",
    "\"\"\")\n",
    "spark.sql(\"\"\"\n",
    "INSERT INTO local.db.sales_by_region_and_month VALUES\n",
    "(1, 'East', 150.00, DATE '2024-01-01'),\n",
    "(2, 'East', 180.00, DATE '2024-01-15'),\n",
    "(3, 'West', 210.00, DATE '2024-02-01')\n",
    "\"\"\")\n",
    "spark.sql(\"\"\"SELECT * FROM local.db.sales_by_region_and_month\"\"\").show()\n"
   ]
  },
  {
   "cell_type": "code",
   "execution_count": 24,
   "id": "43be9c97",
   "metadata": {},
   "outputs": [
    {
     "name": "stdout",
     "output_type": "stream",
     "text": [
      "+-------+-------+\n",
      "|user_id|   name|\n",
      "+-------+-------+\n",
      "|      1|  Alice|\n",
      "|      2|    Bob|\n",
      "|      4|  David|\n",
      "|      3|Charlie|\n",
      "+-------+-------+\n",
      "\n"
     ]
    }
   ],
   "source": [
    "# Bucketed Table\n",
    "spark.sql(\"\"\"\n",
    "CREATE TABLE local.db.bucketed_users (\n",
    "    user_id INT,\n",
    "    name STRING\n",
    ")\n",
    "USING ICEBERG\n",
    "PARTITIONED BY (bucket(4, user_id))\n",
    "TBLPROPERTIES ('format-version' = '2')\n",
    "\"\"\")\n",
    "spark.sql(\"\"\"\n",
    "INSERT INTO local.db.bucketed_users VALUES\n",
    "(1, 'Alice'),\n",
    "(2, 'Bob'),\n",
    "(3, 'Charlie'),\n",
    "(4, 'David')\n",
    "\"\"\")\n",
    "spark.sql(\"\"\"SELECT * FROM local.db.bucketed_users\"\"\").show()\n"
   ]
  },
  {
   "cell_type": "code",
   "execution_count": 25,
   "id": "1a6a9a60",
   "metadata": {},
   "outputs": [
    {
     "name": "stdout",
     "output_type": "stream",
     "text": [
      "+----------------------------+----------------------------------------------------------------------------------------------------------------------+-------+\n",
      "|col_name                    |data_type                                                                                                             |comment|\n",
      "+----------------------------+----------------------------------------------------------------------------------------------------------------------+-------+\n",
      "|user_id                     |int                                                                                                                   |NULL   |\n",
      "|name                        |string                                                                                                                |NULL   |\n",
      "|                            |                                                                                                                      |       |\n",
      "|# Partitioning              |                                                                                                                      |       |\n",
      "|Part 0                      |bucket(4, user_id)                                                                                                    |       |\n",
      "|                            |                                                                                                                      |       |\n",
      "|# Metadata Columns          |                                                                                                                      |       |\n",
      "|_spec_id                    |int                                                                                                                   |       |\n",
      "|_partition                  |struct<user_id_bucket:int>                                                                                            |       |\n",
      "|_file                       |string                                                                                                                |       |\n",
      "|_pos                        |bigint                                                                                                                |       |\n",
      "|_deleted                    |boolean                                                                                                               |       |\n",
      "|                            |                                                                                                                      |       |\n",
      "|# Detailed Table Information|                                                                                                                      |       |\n",
      "|Name                        |local.db.bucketed_users                                                                                               |       |\n",
      "|Type                        |MANAGED                                                                                                               |       |\n",
      "|Location                    |/home/jovyan/iceberg/warehouse/db/bucketed_users                                                                      |       |\n",
      "|Provider                    |iceberg                                                                                                               |       |\n",
      "|Owner                       |jovyan                                                                                                                |       |\n",
      "|Table Properties            |[current-snapshot-id=7458005965338096973,format=iceberg/parquet,format-version=2,write.parquet.compression-codec=zstd]|       |\n",
      "+----------------------------+----------------------------------------------------------------------------------------------------------------------+-------+\n",
      "\n"
     ]
    }
   ],
   "source": [
    "spark.sql(\"DESCRIBE TABLE EXTENDED local.db.bucketed_users\").show(truncate=False)"
   ]
  }
 ],
 "metadata": {
  "kernelspec": {
   "display_name": "Python 3 (ipykernel)",
   "language": "python",
   "name": "python3"
  },
  "language_info": {
   "codemirror_mode": {
    "name": "ipython",
    "version": 3
   },
   "file_extension": ".py",
   "mimetype": "text/x-python",
   "name": "python",
   "nbconvert_exporter": "python",
   "pygments_lexer": "ipython3",
   "version": "3.11.6"
  }
 },
 "nbformat": 4,
 "nbformat_minor": 5
}
