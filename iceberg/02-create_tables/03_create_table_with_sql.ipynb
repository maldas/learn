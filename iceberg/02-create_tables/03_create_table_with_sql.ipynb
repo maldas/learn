{
 "cells": [
  {
   "cell_type": "code",
   "execution_count": 38,
   "id": "a70fdfa3",
   "metadata": {},
   "outputs": [
    {
     "name": "stdout",
     "output_type": "stream",
     "text": [
      "+---+------+------+\n",
      "| id|  name| price|\n",
      "+---+------+------+\n",
      "|  1|Laptop|999.99|\n",
      "|  2| Phone| 499.5|\n",
      "+---+------+------+\n",
      "\n"
     ]
    }
   ],
   "source": [
    "# Basic Table (No Partitioning)\n",
    "spark.sql(\"\"\"\n",
    "CREATE TABLE local.db.products (\n",
    "    id INT,\n",
    "    name STRING,\n",
    "    price DOUBLE\n",
    ")\n",
    "USING ICEBERG\n",
    "TBLPROPERTIES ('format-version' = '2')\n",
    "\"\"\")\n",
    "spark.sql(\"\"\"\n",
    "INSERT INTO local.db.products VALUES\n",
    "(1, 'Laptop', 999.99),\n",
    "(2, 'Phone', 499.50)\n",
    "\"\"\")\n",
    "spark.sql(\"\"\"SELECT * FROM local.db.products\"\"\").show()"
   ]
  },
  {
   "cell_type": "code",
   "execution_count": 39,
   "id": "1a6a9a60",
   "metadata": {},
   "outputs": [
    {
     "name": "stdout",
     "output_type": "stream",
     "text": [
      "+----------------------------+----------------------------------------------------------------------------------------------------------------------+-------+\n",
      "|col_name                    |data_type                                                                                                             |comment|\n",
      "+----------------------------+----------------------------------------------------------------------------------------------------------------------+-------+\n",
      "|id                          |int                                                                                                                   |NULL   |\n",
      "|name                        |string                                                                                                                |NULL   |\n",
      "|price                       |double                                                                                                                |NULL   |\n",
      "|                            |                                                                                                                      |       |\n",
      "|# Metadata Columns          |                                                                                                                      |       |\n",
      "|_spec_id                    |int                                                                                                                   |       |\n",
      "|_partition                  |struct<>                                                                                                              |       |\n",
      "|_file                       |string                                                                                                                |       |\n",
      "|_pos                        |bigint                                                                                                                |       |\n",
      "|_deleted                    |boolean                                                                                                               |       |\n",
      "|                            |                                                                                                                      |       |\n",
      "|# Detailed Table Information|                                                                                                                      |       |\n",
      "|Name                        |local.db.products                                                                                                     |       |\n",
      "|Type                        |MANAGED                                                                                                               |       |\n",
      "|Location                    |/home/jovyan/iceberg/warehouse/db/products                                                                            |       |\n",
      "|Provider                    |iceberg                                                                                                               |       |\n",
      "|Owner                       |jovyan                                                                                                                |       |\n",
      "|Table Properties            |[current-snapshot-id=5855458156974988966,format=iceberg/parquet,format-version=2,write.parquet.compression-codec=zstd]|       |\n",
      "+----------------------------+----------------------------------------------------------------------------------------------------------------------+-------+\n",
      "\n"
     ]
    }
   ],
   "source": [
    "spark.sql(\"DESCRIBE TABLE EXTENDED local.db.products\").show(truncate=False)"
   ]
  },
  {
   "cell_type": "code",
   "execution_count": 40,
   "id": "b70e3c3b",
   "metadata": {},
   "outputs": [
    {
     "ename": "AnalysisException",
     "evalue": "[TABLE_OR_VIEW_ALREADY_EXISTS] Cannot create table or view `db`.`sales` because it already exists.\nChoose a different name, drop or replace the existing object, or add the IF NOT EXISTS clause to tolerate pre-existing objects.",
     "output_type": "error",
     "traceback": [
      "\u001b[0;31m---------------------------------------------------------------------------\u001b[0m",
      "\u001b[0;31mAnalysisException\u001b[0m                         Traceback (most recent call last)",
      "Cell \u001b[0;32mIn[40], line 2\u001b[0m\n\u001b[1;32m      1\u001b[0m \u001b[38;5;66;03m# Create an Iceberg table using SQL\u001b[39;00m\n\u001b[0;32m----> 2\u001b[0m \u001b[43mspark\u001b[49m\u001b[38;5;241;43m.\u001b[39;49m\u001b[43msql\u001b[49m\u001b[43m(\u001b[49m\u001b[38;5;124;43m\"\"\"\u001b[39;49m\n\u001b[1;32m      3\u001b[0m \u001b[38;5;124;43m    CREATE TABLE local.db.sales (\u001b[39;49m\n\u001b[1;32m      4\u001b[0m \u001b[38;5;124;43m        id INT,\u001b[39;49m\n\u001b[1;32m      5\u001b[0m \u001b[38;5;124;43m        product STRING,\u001b[39;49m\n\u001b[1;32m      6\u001b[0m \u001b[38;5;124;43m        amount DOUBLE,\u001b[39;49m\n\u001b[1;32m      7\u001b[0m \u001b[38;5;124;43m        sale_date DATE\u001b[39;49m\n\u001b[1;32m      8\u001b[0m \u001b[38;5;124;43m    )\u001b[39;49m\n\u001b[1;32m      9\u001b[0m \u001b[38;5;124;43m    USING ICEBERG\u001b[39;49m\n\u001b[1;32m     10\u001b[0m \u001b[38;5;124;43m    PARTITIONED BY (months(sale_date))\u001b[39;49m\n\u001b[1;32m     11\u001b[0m \u001b[38;5;124;43m    TBLPROPERTIES (\u001b[39;49m\n\u001b[1;32m     12\u001b[0m \u001b[38;5;124;43m        \u001b[39;49m\u001b[38;5;124;43m'\u001b[39;49m\u001b[38;5;124;43mformat-version\u001b[39;49m\u001b[38;5;124;43m'\u001b[39;49m\u001b[38;5;124;43m = \u001b[39;49m\u001b[38;5;124;43m'\u001b[39;49m\u001b[38;5;124;43m2\u001b[39;49m\u001b[38;5;124;43m'\u001b[39;49m\n\u001b[1;32m     13\u001b[0m \u001b[38;5;124;43m    )\u001b[39;49m\n\u001b[1;32m     14\u001b[0m \u001b[38;5;124;43m\"\"\"\u001b[39;49m\u001b[43m)\u001b[49m\n\u001b[1;32m     16\u001b[0m \u001b[38;5;66;03m# Insert records\u001b[39;00m\n\u001b[1;32m     17\u001b[0m spark\u001b[38;5;241m.\u001b[39msql(\u001b[38;5;124m\"\"\"\u001b[39m\n\u001b[1;32m     18\u001b[0m \u001b[38;5;124m    INSERT INTO local.db.sales VALUES\u001b[39m\n\u001b[1;32m     19\u001b[0m \u001b[38;5;124m    (1, \u001b[39m\u001b[38;5;124m'\u001b[39m\u001b[38;5;124mPen\u001b[39m\u001b[38;5;124m'\u001b[39m\u001b[38;5;124m, 5.5, DATE \u001b[39m\u001b[38;5;124m'\u001b[39m\u001b[38;5;124m2024-01-15\u001b[39m\u001b[38;5;124m'\u001b[39m\u001b[38;5;124m),\u001b[39m\n\u001b[1;32m     20\u001b[0m \u001b[38;5;124m    (2, \u001b[39m\u001b[38;5;124m'\u001b[39m\u001b[38;5;124mPencil\u001b[39m\u001b[38;5;124m'\u001b[39m\u001b[38;5;124m, 2.0, DATE \u001b[39m\u001b[38;5;124m'\u001b[39m\u001b[38;5;124m2024-01-17\u001b[39m\u001b[38;5;124m'\u001b[39m\u001b[38;5;124m),\u001b[39m\n\u001b[1;32m     21\u001b[0m \u001b[38;5;124m    (3, \u001b[39m\u001b[38;5;124m'\u001b[39m\u001b[38;5;124mNotebook\u001b[39m\u001b[38;5;124m'\u001b[39m\u001b[38;5;124m, 7.25, DATE \u001b[39m\u001b[38;5;124m'\u001b[39m\u001b[38;5;124m2024-02-10\u001b[39m\u001b[38;5;124m'\u001b[39m\u001b[38;5;124m)\u001b[39m\n\u001b[1;32m     22\u001b[0m \u001b[38;5;124m\"\"\"\u001b[39m)\n",
      "File \u001b[0;32m/usr/local/spark/python/pyspark/sql/session.py:1631\u001b[0m, in \u001b[0;36mSparkSession.sql\u001b[0;34m(self, sqlQuery, args, **kwargs)\u001b[0m\n\u001b[1;32m   1627\u001b[0m         \u001b[38;5;28;01massert\u001b[39;00m \u001b[38;5;28mself\u001b[39m\u001b[38;5;241m.\u001b[39m_jvm \u001b[38;5;129;01mis\u001b[39;00m \u001b[38;5;129;01mnot\u001b[39;00m \u001b[38;5;28;01mNone\u001b[39;00m\n\u001b[1;32m   1628\u001b[0m         litArgs \u001b[38;5;241m=\u001b[39m \u001b[38;5;28mself\u001b[39m\u001b[38;5;241m.\u001b[39m_jvm\u001b[38;5;241m.\u001b[39mPythonUtils\u001b[38;5;241m.\u001b[39mtoArray(\n\u001b[1;32m   1629\u001b[0m             [_to_java_column(lit(v)) \u001b[38;5;28;01mfor\u001b[39;00m v \u001b[38;5;129;01min\u001b[39;00m (args \u001b[38;5;129;01mor\u001b[39;00m [])]\n\u001b[1;32m   1630\u001b[0m         )\n\u001b[0;32m-> 1631\u001b[0m     \u001b[38;5;28;01mreturn\u001b[39;00m DataFrame(\u001b[38;5;28;43mself\u001b[39;49m\u001b[38;5;241;43m.\u001b[39;49m\u001b[43m_jsparkSession\u001b[49m\u001b[38;5;241;43m.\u001b[39;49m\u001b[43msql\u001b[49m\u001b[43m(\u001b[49m\u001b[43msqlQuery\u001b[49m\u001b[43m,\u001b[49m\u001b[43m \u001b[49m\u001b[43mlitArgs\u001b[49m\u001b[43m)\u001b[49m, \u001b[38;5;28mself\u001b[39m)\n\u001b[1;32m   1632\u001b[0m \u001b[38;5;28;01mfinally\u001b[39;00m:\n\u001b[1;32m   1633\u001b[0m     \u001b[38;5;28;01mif\u001b[39;00m \u001b[38;5;28mlen\u001b[39m(kwargs) \u001b[38;5;241m>\u001b[39m \u001b[38;5;241m0\u001b[39m:\n",
      "File \u001b[0;32m/usr/local/spark/python/lib/py4j-0.10.9.7-src.zip/py4j/java_gateway.py:1322\u001b[0m, in \u001b[0;36mJavaMember.__call__\u001b[0;34m(self, *args)\u001b[0m\n\u001b[1;32m   1316\u001b[0m command \u001b[38;5;241m=\u001b[39m proto\u001b[38;5;241m.\u001b[39mCALL_COMMAND_NAME \u001b[38;5;241m+\u001b[39m\\\n\u001b[1;32m   1317\u001b[0m     \u001b[38;5;28mself\u001b[39m\u001b[38;5;241m.\u001b[39mcommand_header \u001b[38;5;241m+\u001b[39m\\\n\u001b[1;32m   1318\u001b[0m     args_command \u001b[38;5;241m+\u001b[39m\\\n\u001b[1;32m   1319\u001b[0m     proto\u001b[38;5;241m.\u001b[39mEND_COMMAND_PART\n\u001b[1;32m   1321\u001b[0m answer \u001b[38;5;241m=\u001b[39m \u001b[38;5;28mself\u001b[39m\u001b[38;5;241m.\u001b[39mgateway_client\u001b[38;5;241m.\u001b[39msend_command(command)\n\u001b[0;32m-> 1322\u001b[0m return_value \u001b[38;5;241m=\u001b[39m \u001b[43mget_return_value\u001b[49m\u001b[43m(\u001b[49m\n\u001b[1;32m   1323\u001b[0m \u001b[43m    \u001b[49m\u001b[43manswer\u001b[49m\u001b[43m,\u001b[49m\u001b[43m \u001b[49m\u001b[38;5;28;43mself\u001b[39;49m\u001b[38;5;241;43m.\u001b[39;49m\u001b[43mgateway_client\u001b[49m\u001b[43m,\u001b[49m\u001b[43m \u001b[49m\u001b[38;5;28;43mself\u001b[39;49m\u001b[38;5;241;43m.\u001b[39;49m\u001b[43mtarget_id\u001b[49m\u001b[43m,\u001b[49m\u001b[43m \u001b[49m\u001b[38;5;28;43mself\u001b[39;49m\u001b[38;5;241;43m.\u001b[39;49m\u001b[43mname\u001b[49m\u001b[43m)\u001b[49m\n\u001b[1;32m   1325\u001b[0m \u001b[38;5;28;01mfor\u001b[39;00m temp_arg \u001b[38;5;129;01min\u001b[39;00m temp_args:\n\u001b[1;32m   1326\u001b[0m     \u001b[38;5;28;01mif\u001b[39;00m \u001b[38;5;28mhasattr\u001b[39m(temp_arg, \u001b[38;5;124m\"\u001b[39m\u001b[38;5;124m_detach\u001b[39m\u001b[38;5;124m\"\u001b[39m):\n",
      "File \u001b[0;32m/usr/local/spark/python/pyspark/errors/exceptions/captured.py:185\u001b[0m, in \u001b[0;36mcapture_sql_exception.<locals>.deco\u001b[0;34m(*a, **kw)\u001b[0m\n\u001b[1;32m    181\u001b[0m converted \u001b[38;5;241m=\u001b[39m convert_exception(e\u001b[38;5;241m.\u001b[39mjava_exception)\n\u001b[1;32m    182\u001b[0m \u001b[38;5;28;01mif\u001b[39;00m \u001b[38;5;129;01mnot\u001b[39;00m \u001b[38;5;28misinstance\u001b[39m(converted, UnknownException):\n\u001b[1;32m    183\u001b[0m     \u001b[38;5;66;03m# Hide where the exception came from that shows a non-Pythonic\u001b[39;00m\n\u001b[1;32m    184\u001b[0m     \u001b[38;5;66;03m# JVM exception message.\u001b[39;00m\n\u001b[0;32m--> 185\u001b[0m     \u001b[38;5;28;01mraise\u001b[39;00m converted \u001b[38;5;28;01mfrom\u001b[39;00m \u001b[38;5;28;01mNone\u001b[39;00m\n\u001b[1;32m    186\u001b[0m \u001b[38;5;28;01melse\u001b[39;00m:\n\u001b[1;32m    187\u001b[0m     \u001b[38;5;28;01mraise\u001b[39;00m\n",
      "\u001b[0;31mAnalysisException\u001b[0m: [TABLE_OR_VIEW_ALREADY_EXISTS] Cannot create table or view `db`.`sales` because it already exists.\nChoose a different name, drop or replace the existing object, or add the IF NOT EXISTS clause to tolerate pre-existing objects."
     ]
    }
   ],
   "source": [
    "# Create an Iceberg table using SQL\n",
    "spark.sql(\"\"\"\n",
    "    CREATE TABLE local.db.sales (\n",
    "        id INT,\n",
    "        product STRING,\n",
    "        amount DOUBLE,\n",
    "        sale_date DATE\n",
    "    )\n",
    "    USING ICEBERG\n",
    "    PARTITIONED BY (months(sale_date))\n",
    "    TBLPROPERTIES (\n",
    "        'format-version' = '2'\n",
    "    )\n",
    "\"\"\")\n",
    "\n",
    "# Insert records\n",
    "spark.sql(\"\"\"\n",
    "    INSERT INTO local.db.sales VALUES\n",
    "    (1, 'Pen', 5.5, DATE '2024-01-15'),\n",
    "    (2, 'Pencil', 2.0, DATE '2024-01-17'),\n",
    "    (3, 'Notebook', 7.25, DATE '2024-02-10')\n",
    "\"\"\")\n",
    "\n",
    "# Read and display\n",
    "spark.sql(\"SELECT * FROM local.db.sales\").show()"
   ]
  },
  {
   "cell_type": "code",
   "execution_count": 41,
   "id": "e5558254",
   "metadata": {},
   "outputs": [
    {
     "data": {
      "text/plain": [
       "DataFrame[]"
      ]
     },
     "execution_count": 41,
     "metadata": {},
     "output_type": "execute_result"
    }
   ],
   "source": [
    "# Create Partitioned Iceberg Table (SQL)\n",
    "spark.sql(\"\"\"\n",
    "CREATE TABLE local.db.partitioned_table (\n",
    "  id INT,\n",
    "  category STRING,\n",
    "  value DOUBLE\n",
    ")\n",
    "USING iceberg\n",
    "PARTITIONED BY (category)\n",
    "\"\"\")\n"
   ]
  }
 ],
 "metadata": {
  "kernelspec": {
   "display_name": "Python 3 (ipykernel)",
   "language": "python",
   "name": "python3"
  },
  "language_info": {
   "codemirror_mode": {
    "name": "ipython",
    "version": 3
   },
   "file_extension": ".py",
   "mimetype": "text/x-python",
   "name": "python",
   "nbconvert_exporter": "python",
   "pygments_lexer": "ipython3",
   "version": "3.11.6"
  }
 },
 "nbformat": 4,
 "nbformat_minor": 5
}
