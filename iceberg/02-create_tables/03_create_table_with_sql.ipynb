{
 "cells": [
  {
   "cell_type": "markdown",
   "id": "a0b5507a",
   "metadata": {},
   "source": [
    "# Creating Iceberg Tables with Spark SQL\n",
    "\n",
    "This notebook demonstrates how to create and use Iceberg tables in Spark using SQL syntax.\n",
    "\n",
    "## 1. Create a Basic Iceberg Table (No Partitioning)\n",
    "\n",
    "We create a simple Iceberg table named `products` using Spark SQL, insert some records, and display the data."
   ]
  },
  {
   "cell_type": "code",
   "execution_count": 10,
   "id": "a70fdfa3",
   "metadata": {},
   "outputs": [
    {
     "name": "stdout",
     "output_type": "stream",
     "text": [
      "+---+------+------+\n",
      "| id|  name| price|\n",
      "+---+------+------+\n",
      "|  1|Laptop|999.99|\n",
      "|  2| Phone| 499.5|\n",
      "+---+------+------+\n",
      "\n"
     ]
    }
   ],
   "source": [
    "# Basic Table (No Partitioning)\n",
    "spark.sql(\"\"\"\n",
    "CREATE TABLE local.db.products (\n",
    "    id INT,\n",
    "    name STRING,\n",
    "    price DOUBLE\n",
    ")\n",
    "USING ICEBERG\n",
    "TBLPROPERTIES ('format-version' = '2')\n",
    "\"\"\")\n",
    "spark.sql(\"\"\"\n",
    "INSERT INTO local.db.products VALUES\n",
    "(1, 'Laptop', 999.99),\n",
    "(2, 'Phone', 499.50)\n",
    "\"\"\")\n",
    "spark.sql(\"\"\"SELECT * FROM local.db.products\"\"\").show()"
   ]
  },
  {
   "cell_type": "markdown",
   "id": "9a2b4f3f",
   "metadata": {},
   "source": [
    "## 2. Inspect Table Schema and Properties\n",
    "\n",
    "We use `DESCRIBE TABLE EXTENDED` to view the schema and properties of the `products` table."
   ]
  },
  {
   "cell_type": "code",
   "execution_count": 11,
   "id": "1a6a9a60",
   "metadata": {},
   "outputs": [
    {
     "name": "stdout",
     "output_type": "stream",
     "text": [
      "+----------------------------+----------------------------------------------------------------------------------------------------------------------+-------+\n",
      "|col_name                    |data_type                                                                                                             |comment|\n",
      "+----------------------------+----------------------------------------------------------------------------------------------------------------------+-------+\n",
      "|id                          |int                                                                                                                   |NULL   |\n",
      "|name                        |string                                                                                                                |NULL   |\n",
      "|price                       |double                                                                                                                |NULL   |\n",
      "|                            |                                                                                                                      |       |\n",
      "|# Metadata Columns          |                                                                                                                      |       |\n",
      "|_spec_id                    |int                                                                                                                   |       |\n",
      "|_partition                  |struct<>                                                                                                              |       |\n",
      "|_file                       |string                                                                                                                |       |\n",
      "|_pos                        |bigint                                                                                                                |       |\n",
      "|_deleted                    |boolean                                                                                                               |       |\n",
      "|                            |                                                                                                                      |       |\n",
      "|# Detailed Table Information|                                                                                                                      |       |\n",
      "|Name                        |local.db.products                                                                                                     |       |\n",
      "|Type                        |MANAGED                                                                                                               |       |\n",
      "|Location                    |/home/jovyan/iceberg/warehouse/db/products                                                                            |       |\n",
      "|Provider                    |iceberg                                                                                                               |       |\n",
      "|Owner                       |jovyan                                                                                                                |       |\n",
      "|Table Properties            |[current-snapshot-id=2762507167573950629,format=iceberg/parquet,format-version=2,write.parquet.compression-codec=zstd]|       |\n",
      "+----------------------------+----------------------------------------------------------------------------------------------------------------------+-------+\n",
      "\n"
     ]
    }
   ],
   "source": [
    "spark.sql(\"DESCRIBE TABLE EXTENDED local.db.products\").show(truncate=False)"
   ]
  },
  {
   "cell_type": "markdown",
   "id": "73e2368d",
   "metadata": {},
   "source": [
    "## 3. Create a Partitioned Iceberg Table (by Month)\n",
    "\n",
    "We create a partitioned Iceberg table named `sales`, partitioned by month of the `sale_date` column, insert data, and display the contents."
   ]
  },
  {
   "cell_type": "code",
   "execution_count": 12,
   "id": "b70e3c3b",
   "metadata": {},
   "outputs": [
    {
     "name": "stdout",
     "output_type": "stream",
     "text": [
      "+---+--------+------+----------+\n",
      "| id| product|amount| sale_date|\n",
      "+---+--------+------+----------+\n",
      "|  1|     Pen|   5.5|2024-01-15|\n",
      "|  2|  Pencil|   2.0|2024-01-17|\n",
      "|  3|Notebook|  7.25|2024-02-10|\n",
      "+---+--------+------+----------+\n",
      "\n"
     ]
    }
   ],
   "source": [
    "# Create an Iceberg table using SQL\n",
    "spark.sql(\"\"\"\n",
    "    CREATE TABLE local.db.sales (\n",
    "        id INT,\n",
    "        product STRING,\n",
    "        amount DOUBLE,\n",
    "        sale_date DATE\n",
    "    )\n",
    "    USING ICEBERG\n",
    "    PARTITIONED BY (months(sale_date))\n",
    "    TBLPROPERTIES (\n",
    "        'format-version' = '2'\n",
    "    )\n",
    "\"\"\")\n",
    "\n",
    "# Insert records\n",
    "spark.sql(\"\"\"\n",
    "    INSERT INTO local.db.sales VALUES\n",
    "    (1, 'Pen', 5.5, DATE '2024-01-15'),\n",
    "    (2, 'Pencil', 2.0, DATE '2024-01-17'),\n",
    "    (3, 'Notebook', 7.25, DATE '2024-02-10')\n",
    "\"\"\")\n",
    "\n",
    "# Read and display\n",
    "spark.sql(\"SELECT * FROM local.db.sales\").show()"
   ]
  },
  {
   "cell_type": "code",
   "execution_count": null,
   "id": "5034d0e3",
   "metadata": {},
   "outputs": [],
   "source": []
  }
 ],
 "metadata": {
  "kernelspec": {
   "display_name": "Python 3 (ipykernel)",
   "language": "python",
   "name": "python3"
  },
  "language_info": {
   "codemirror_mode": {
    "name": "ipython",
    "version": 3
   },
   "file_extension": ".py",
   "mimetype": "text/x-python",
   "name": "python",
   "nbconvert_exporter": "python",
   "pygments_lexer": "ipython3",
   "version": "3.11.10"
  }
 },
 "nbformat": 4,
 "nbformat_minor": 5
}
