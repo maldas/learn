{
 "cells": [
  {
   "cell_type": "code",
   "execution_count": 14,
   "id": "d8491f5a",
   "metadata": {},
   "outputs": [
    {
     "name": "stdout",
     "output_type": "stream",
     "text": [
      "+---+------+\n",
      "| id| fruit|\n",
      "+---+------+\n",
      "|  1| Apple|\n",
      "|  2|Orange|\n",
      "|  3|Banana|\n",
      "+---+------+\n",
      "\n",
      "+---+------+\n",
      "| id| fruit|\n",
      "+---+------+\n",
      "|  1| Apple|\n",
      "|  2|Orange|\n",
      "|  3|Banana|\n",
      "+---+------+\n",
      "\n"
     ]
    }
   ],
   "source": [
    "from pyspark.sql.types import StructType, StructField, IntegerType, StringType\n",
    "\n",
    "# Sample data\n",
    "data = [(1, \"Apple\"), (2, \"Orange\"), (3, \"Banana\")]\n",
    "schema = StructType([\n",
    "    StructField(\"id\", IntegerType(), True),\n",
    "    StructField(\"fruit\", StringType(), True)\n",
    "])\n",
    "df = spark.createDataFrame(data, schema)\n",
    "df.show()\n",
    "\n",
    "# Create Iceberg table\n",
    "df.writeTo(\"local.db.fruits\") \\\n",
    "    .using(\"iceberg\") \\\n",
    "    .tableProperty(\"format-version\", \"2\") \\\n",
    "    .createOrReplace()\n",
    "\n",
    "# Read table\n",
    "spark.read.table(\"local.db.fruits\").show()"
   ]
  }
 ],
 "metadata": {
  "language_info": {
   "name": "python"
  }
 },
 "nbformat": 4,
 "nbformat_minor": 5
}
