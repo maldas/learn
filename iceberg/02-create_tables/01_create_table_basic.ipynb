{
 "cells": [
  {
   "cell_type": "markdown",
   "id": "68a9a1b5",
   "metadata": {},
   "source": [
    "# Basic Iceberg Table Creation with Spark\n",
    "\n",
    "This notebook demonstrates how to create a simple Iceberg table using Spark, insert data, and read it back."
   ]
  },
  {
   "cell_type": "markdown",
   "id": "6a042405",
   "metadata": {},
   "source": [
    "## 1. Create a DataFrame\n",
    "\n",
    "We create a DataFrame with sample fruit data."
   ]
  },
  {
   "cell_type": "code",
   "execution_count": null,
   "id": "9526e73e",
   "metadata": {},
   "outputs": [],
   "source": [
    "from pyspark.sql.types import StructType, StructField, IntegerType, StringType\n",
    "\n",
    "# Sample data\n",
    "data = [(1, \"Apple\"), (2, \"Orange\"), (3, \"Banana\")]\n",
    "schema = StructType([\n",
    "    StructField(\"id\", IntegerType(), True),\n",
    "    StructField(\"fruit\", StringType(), True)\n",
    "])\n",
    "df = spark.createDataFrame(data, schema)\n",
    "df.show()"
   ]
  },
  {
   "cell_type": "markdown",
   "id": "1cbfdbb4",
   "metadata": {},
   "source": [
    "## 2. Write DataFrame to Iceberg Table\n",
    "\n",
    "We write the DataFrame to an Iceberg table named `fruits`."
   ]
  },
  {
   "cell_type": "code",
   "execution_count": null,
   "id": "f6b73d88",
   "metadata": {},
   "outputs": [],
   "source": [
    "# Create Iceberg table\n",
    "df.writeTo(\"local.db.fruits\") \\\n",
    "    .using(\"iceberg\") \\\n",
    "    .tableProperty(\"format-version\", \"2\") \\\n",
    "    .createOrReplace()"
   ]
  },
  {
   "cell_type": "markdown",
   "id": "05f69801",
   "metadata": {},
   "source": [
    "## 3. Read Data from Iceberg Table\n",
    "\n",
    "We read the data back from the Iceberg table to verify the contents."
   ]
  },
  {
   "cell_type": "code",
   "execution_count": null,
   "id": "92c12b9c",
   "metadata": {},
   "outputs": [],
   "source": [
    "# Read table\n",
    "spark.read.table(\"local.db.fruits\").show()"
   ]
  }
 ],
 "metadata": {
  "kernelspec": {
   "display_name": "Python 3 (ipykernel)",
   "language": "python",
   "name": "python3"
  },
  "language_info": {
   "codemirror_mode": {
    "name": "ipython",
    "version": 3
   },
   "file_extension": ".py",
   "mimetype": "text/x-python",
   "name": "python",
   "nbconvert_exporter": "python",
   "pygments_lexer": "ipython3",
   "version": "3.12.11"
  }
 },
 "nbformat": 4,
 "nbformat_minor": 5
}
