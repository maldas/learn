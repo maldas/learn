{
 "cells": [
  {
   "cell_type": "markdown",
   "id": "be9a005a",
   "metadata": {},
   "source": [
    "# 🧊 Apache Iceberg - Schema Evolution with PySpark\n",
    "This notebook demonstrates various schema evolution features in Apache Iceberg using PySpark."
   ]
  },
  {
   "cell_type": "markdown",
   "id": "32deae9f",
   "metadata": {},
   "source": [
    "## ⚙️ Step 1: SparkSession Setup"
   ]
  },
  {
   "cell_type": "code",
   "execution_count": 2,
   "id": "59f1284e",
   "metadata": {},
   "outputs": [],
   "source": [
    "\n",
    "from pyspark.sql import SparkSession\n",
    "\n",
    "spark = SparkSession.builder \\\n",
    "    .appName(\"IcebergSchemaEvolution\") \\\n",
    "    .config(\"spark.sql.catalog.local\", \"org.apache.iceberg.spark.SparkCatalog\") \\\n",
    "    .config(\"spark.sql.catalog.local.type\", \"hadoop\") \\\n",
    "    .config(\"spark.sql.catalog.local.warehouse\", \"/home/jovyan/iceberg/warehouse\") \\\n",
    "    .config(\"spark.sql.extensions\", \"org.apache.iceberg.spark.extensions.IcebergSparkSessionExtensions\") \\\n",
    "    .getOrCreate()\n"
   ]
  },
  {
   "cell_type": "code",
   "execution_count": 3,
   "id": "172bb4c0",
   "metadata": {},
   "outputs": [
    {
     "data": {
      "text/plain": [
       "DataFrame[]"
      ]
     },
     "execution_count": 3,
     "metadata": {},
     "output_type": "execute_result"
    }
   ],
   "source": [
    "spark.sql(\"DROP TABLE IF EXISTS local.db.customers\")"
   ]
  },
  {
   "cell_type": "markdown",
   "id": "06162a47",
   "metadata": {},
   "source": [
    "## 📘 Step 2: Create a Basic Iceberg Table"
   ]
  },
  {
   "cell_type": "code",
   "execution_count": 4,
   "id": "19b1628e",
   "metadata": {},
   "outputs": [
    {
     "data": {
      "text/plain": [
       "DataFrame[]"
      ]
     },
     "execution_count": 4,
     "metadata": {},
     "output_type": "execute_result"
    }
   ],
   "source": [
    "\n",
    "spark.sql(\"\"\"\n",
    "    CREATE TABLE local.db.customers (\n",
    "        id INT,\n",
    "        name STRING\n",
    "    )\n",
    "    USING iceberg\n",
    "\"\"\")\n"
   ]
  },
  {
   "cell_type": "code",
   "execution_count": 5,
   "id": "ec2539af",
   "metadata": {},
   "outputs": [
    {
     "data": {
      "text/plain": [
       "DataFrame[]"
      ]
     },
     "execution_count": 5,
     "metadata": {},
     "output_type": "execute_result"
    }
   ],
   "source": [
    "\n",
    "spark.sql(\"\"\"\n",
    "    INSERT INTO local.db.customers VALUES \n",
    "    (1, 'Alice'),\n",
    "    (2, 'Bob')\n",
    "\"\"\")\n"
   ]
  },
  {
   "cell_type": "markdown",
   "id": "a31a8b0c",
   "metadata": {},
   "source": [
    "## ➕ Step 3: Add a New Column"
   ]
  },
  {
   "cell_type": "code",
   "execution_count": 6,
   "id": "97ffae0f",
   "metadata": {},
   "outputs": [
    {
     "data": {
      "text/plain": [
       "DataFrame[]"
      ]
     },
     "execution_count": 6,
     "metadata": {},
     "output_type": "execute_result"
    }
   ],
   "source": [
    "\n",
    "spark.sql(\"ALTER TABLE local.db.customers ADD COLUMN email STRING\")\n",
    "spark.sql(\"INSERT INTO local.db.customers VALUES (3, 'Charlie', 'charlie@example.com')\")\n"
   ]
  },
  {
   "cell_type": "markdown",
   "id": "90d098d7",
   "metadata": {},
   "source": [
    "## 🔄 Step 4: Rename a Column"
   ]
  },
  {
   "cell_type": "code",
   "execution_count": 7,
   "id": "a063864d",
   "metadata": {},
   "outputs": [
    {
     "data": {
      "text/plain": [
       "DataFrame[]"
      ]
     },
     "execution_count": 7,
     "metadata": {},
     "output_type": "execute_result"
    }
   ],
   "source": [
    "\n",
    "spark.sql(\"ALTER TABLE local.db.customers RENAME COLUMN name TO full_name\")\n"
   ]
  },
  {
   "cell_type": "markdown",
   "id": "9a7cf162",
   "metadata": {},
   "source": [
    "## 🔧 Step 5: Change Column Type (INT ➝ BIGINT)"
   ]
  },
  {
   "cell_type": "code",
   "execution_count": 8,
   "id": "2b4b8ef9",
   "metadata": {},
   "outputs": [
    {
     "data": {
      "text/plain": [
       "DataFrame[]"
      ]
     },
     "execution_count": 8,
     "metadata": {},
     "output_type": "execute_result"
    }
   ],
   "source": [
    "\n",
    "spark.sql(\"ALTER TABLE local.db.customers ALTER COLUMN id TYPE BIGINT\")\n"
   ]
  },
  {
   "cell_type": "markdown",
   "id": "148e5696",
   "metadata": {},
   "source": [
    "## 📑 Step 6: Reorder Columns (email FIRST)"
   ]
  },
  {
   "cell_type": "code",
   "execution_count": 9,
   "id": "7c14f6bd",
   "metadata": {},
   "outputs": [
    {
     "data": {
      "text/plain": [
       "DataFrame[]"
      ]
     },
     "execution_count": 9,
     "metadata": {},
     "output_type": "execute_result"
    }
   ],
   "source": [
    "\n",
    "spark.sql(\"ALTER TABLE local.db.customers ALTER COLUMN email FIRST\")\n"
   ]
  },
  {
   "cell_type": "markdown",
   "id": "dde148ef",
   "metadata": {},
   "source": [
    "## ❌ Step 7: Drop a Column"
   ]
  },
  {
   "cell_type": "code",
   "execution_count": 10,
   "id": "ab486a4f",
   "metadata": {},
   "outputs": [
    {
     "data": {
      "text/plain": [
       "DataFrame[]"
      ]
     },
     "execution_count": 10,
     "metadata": {},
     "output_type": "execute_result"
    }
   ],
   "source": [
    "\n",
    "spark.sql(\"ALTER TABLE local.db.customers DROP COLUMN email\")\n"
   ]
  },
  {
   "cell_type": "markdown",
   "id": "3e3352a1",
   "metadata": {},
   "source": [
    "## 📊 Step 8: View Final Schema and Data"
   ]
  },
  {
   "cell_type": "code",
   "execution_count": 11,
   "id": "54d50b6b",
   "metadata": {},
   "outputs": [
    {
     "name": "stdout",
     "output_type": "stream",
     "text": [
      "Final Schema:\n",
      "+---------+---------+-------+\n",
      "|col_name |data_type|comment|\n",
      "+---------+---------+-------+\n",
      "|id       |bigint   |NULL   |\n",
      "|full_name|string   |NULL   |\n",
      "+---------+---------+-------+\n",
      "\n",
      "Final Data:\n",
      "+---+---------+\n",
      "| id|full_name|\n",
      "+---+---------+\n",
      "|  3|  Charlie|\n",
      "|  1|    Alice|\n",
      "|  2|      Bob|\n",
      "+---+---------+\n",
      "\n"
     ]
    }
   ],
   "source": [
    "\n",
    "print(\"Final Schema:\")\n",
    "spark.sql(\"DESCRIBE TABLE local.db.customers\").show(truncate=False)\n",
    "\n",
    "print(\"Final Data:\")\n",
    "spark.sql(\"SELECT * FROM local.db.customers\").show()\n"
   ]
  }
 ],
 "metadata": {
  "kernelspec": {
   "display_name": "Python 3 (ipykernel)",
   "language": "python",
   "name": "python3"
  },
  "language_info": {
   "codemirror_mode": {
    "name": "ipython",
    "version": 3
   },
   "file_extension": ".py",
   "mimetype": "text/x-python",
   "name": "python",
   "nbconvert_exporter": "python",
   "pygments_lexer": "ipython3",
   "version": "3.11.10"
  }
 },
 "nbformat": 4,
 "nbformat_minor": 5
}
