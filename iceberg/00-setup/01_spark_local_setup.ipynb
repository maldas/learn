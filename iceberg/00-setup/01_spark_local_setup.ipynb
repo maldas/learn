{
 "cells": [
  {
   "cell_type": "markdown",
   "id": "47361a01",
   "metadata": {},
   "source": [
    "# Spark Local Setup for Apache Iceberg\n",
    "This notebook sets up a local Spark session with Iceberg support."
   ]
  },
  {
   "cell_type": "code",
   "execution_count": 1,
   "id": "a616b052",
   "metadata": {},
   "outputs": [
    {
     "name": "stdout",
     "output_type": "stream",
     "text": [
      "✅ SparkSession initialized with local Iceberg Hadoop catalog\n"
     ]
    }
   ],
   "source": [
    "from pyspark.sql import SparkSession\n",
    "import os\n",
    "\n",
    "# Ensure the warehouse path exists\n",
    "warehouse_path = \"/home/jovyan/iceberg/warehouse\"\n",
    "os.makedirs(warehouse_path, exist_ok=True)\n",
    "\n",
    "# Initialize SparkSession with HadoopCatalog\n",
    "spark = SparkSession.builder \\\n",
    "    .appName(\"IcebergLocalSetup\") \\\n",
    "    .config(\"spark.sql.catalog.local\", \"org.apache.iceberg.spark.SparkCatalog\") \\\n",
    "    .config(\"spark.sql.catalog.local.type\", \"hadoop\") \\\n",
    "    .config(\"spark.sql.catalog.local.warehouse\", warehouse_path) \\\n",
    "    .getOrCreate()\n",
    "\n",
    "spark.sparkContext.setLogLevel(\"WARN\")\n",
    "print(\"✅ SparkSession initialized with local Iceberg Hadoop catalog\")\n"
   ]
  },
  {
   "cell_type": "code",
   "execution_count": 2,
   "id": "640a8d76",
   "metadata": {},
   "outputs": [
    {
     "name": "stdout",
     "output_type": "stream",
     "text": [
      "spark.sql.catalog.local.warehouse = /home/jovyan/iceberg/warehouse\n",
      "spark.sql.catalog.local.type = hadoop\n",
      "spark.sql.catalog.local = org.apache.iceberg.spark.SparkCatalog\n"
     ]
    }
   ],
   "source": [
    "# Optional: List available catalogs and configurations\n",
    "for k, v in spark.sparkContext.getConf().getAll():\n",
    "    if 'catalog' in k:\n",
    "        print(f\"{k} = {v}\")"
   ]
  }
 ],
 "metadata": {
  "kernelspec": {
   "display_name": "Python 3 (ipykernel)",
   "language": "python",
   "name": "python3"
  }
 },
 "nbformat": 4,
 "nbformat_minor": 5
}
