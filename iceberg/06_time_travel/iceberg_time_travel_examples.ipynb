{
 "cells": [
  {
   "cell_type": "markdown",
   "id": "f6b63e68",
   "metadata": {},
   "source": [
    "# 🧊 Apache Iceberg Time Travel Tutorial\n",
    "This notebook demonstrates **time travel** features in Apache Iceberg using PySpark SQL, progressing from basic to advanced examples.\n",
    "\n",
    "✅ Requirements:\n",
    "- Spark 3.5+ or 4.0\n",
    "- Iceberg Spark extensions enabled\n",
    "- Using `spark_catalog` and namespace `local.db`\n",
    "- Format version 2"
   ]
  },
  {
   "cell_type": "markdown",
   "id": "efda1e78",
   "metadata": {},
   "source": [
    "## 🔧 1. Spark & Iceberg Setup"
   ]
  },
  {
   "cell_type": "code",
   "execution_count": 1,
   "id": "74a09197",
   "metadata": {},
   "outputs": [],
   "source": [
    "\n",
    "from pyspark.sql import SparkSession\n",
    "\n",
    "spark = SparkSession.builder \\\n",
    "    .appName(\"IcebergComplexSchemaEvolution\") \\\n",
    "    .config(\"spark.sql.catalog.local\", \"org.apache.iceberg.spark.SparkCatalog\") \\\n",
    "    .config(\"spark.sql.catalog.local.type\", \"hadoop\") \\\n",
    "    .config(\"spark.sql.catalog.local.warehouse\", \"/home/jovyan/iceberg/warehouse\") \\\n",
    "    .config(\"spark.sql.extensions\", \"org.apache.iceberg.spark.extensions.IcebergSparkSessionExtensions\") \\\n",
    "    .getOrCreate()"
   ]
  },
  {
   "cell_type": "markdown",
   "id": "47a4b1f1",
   "metadata": {},
   "source": [
    "## 📦 2. Create Table and Initial Load"
   ]
  },
  {
   "cell_type": "code",
   "execution_count": 2,
   "id": "114fd127",
   "metadata": {},
   "outputs": [
    {
     "data": {
      "text/plain": [
       "DataFrame[]"
      ]
     },
     "execution_count": 2,
     "metadata": {},
     "output_type": "execute_result"
    }
   ],
   "source": [
    "spark.sql(\"\"\"\n",
    "CREATE TABLE IF NOT EXISTS local.db.timeTravelTest (\n",
    "    id INT,\n",
    "    name STRING\n",
    ") \n",
    "USING iceberg\n",
    "TBLPROPERTIES ('format-version'='2')\n",
    "\"\"\")"
   ]
  },
  {
   "cell_type": "code",
   "execution_count": 3,
   "id": "45cb119e",
   "metadata": {},
   "outputs": [
    {
     "data": {
      "text/plain": [
       "DataFrame[]"
      ]
     },
     "execution_count": 3,
     "metadata": {},
     "output_type": "execute_result"
    }
   ],
   "source": [
    "spark.sql(\"\"\"\n",
    "INSERT INTO local.db.timeTravelTest VALUES\n",
    "(1, 'Alpha'),\n",
    "(2, 'Beta')\n",
    "\"\"\")"
   ]
  },
  {
   "cell_type": "markdown",
   "id": "798db664",
   "metadata": {},
   "source": [
    "## ➕ 3. Insert More Data (Version 2)"
   ]
  },
  {
   "cell_type": "code",
   "execution_count": 4,
   "id": "4912ab86",
   "metadata": {},
   "outputs": [
    {
     "data": {
      "text/plain": [
       "DataFrame[]"
      ]
     },
     "execution_count": 4,
     "metadata": {},
     "output_type": "execute_result"
    }
   ],
   "source": [
    "spark.sql(\"\"\"\n",
    "INSERT INTO local.db.timeTravelTest VALUES\n",
    "(3, 'Gamma')\n",
    "\"\"\")"
   ]
  },
  {
   "cell_type": "markdown",
   "id": "32a3f63b",
   "metadata": {},
   "source": [
    "## 📸 4. View Snapshot History"
   ]
  },
  {
   "cell_type": "code",
   "execution_count": 5,
   "id": "055d4223",
   "metadata": {},
   "outputs": [
    {
     "name": "stdout",
     "output_type": "stream",
     "text": [
      "+-----------------------+-------------------+-------------------+---------+------------------------------------------------------------------------------------------------------------------------------+-----------------------------------------------------------------------------------------------------------------------------------------------------------------------------------------------------------------------------------------------------------------------------------------------+\n",
      "|committed_at           |snapshot_id        |parent_id          |operation|manifest_list                                                                                                                 |summary                                                                                                                                                                                                                                                                                        |\n",
      "+-----------------------+-------------------+-------------------+---------+------------------------------------------------------------------------------------------------------------------------------+-----------------------------------------------------------------------------------------------------------------------------------------------------------------------------------------------------------------------------------------------------------------------------------------------+\n",
      "|2025-07-11 18:31:09.257|2893334066603151014|NULL               |append   |/home/jovyan/iceberg/warehouse/db/timeTravelTest/metadata/snap-2893334066603151014-1-08e8f483-c7b2-4d17-b304-caf53eb7d6d2.avro|{spark.app.id -> local-1752258500527, added-data-files -> 1, added-records -> 2, added-files-size -> 622, changed-partition-count -> 1, total-records -> 2, total-files-size -> 622, total-data-files -> 1, total-delete-files -> 0, total-position-deletes -> 0, total-equality-deletes -> 0} |\n",
      "|2025-07-11 18:35:21.835|6399747780325267945|2893334066603151014|append   |/home/jovyan/iceberg/warehouse/db/timeTravelTest/metadata/snap-6399747780325267945-1-59ae9630-5770-4e02-b74f-f1338bcf0104.avro|{spark.app.id -> local-1752258500527, added-data-files -> 1, added-records -> 1, added-files-size -> 623, changed-partition-count -> 1, total-records -> 3, total-files-size -> 1245, total-data-files -> 2, total-delete-files -> 0, total-position-deletes -> 0, total-equality-deletes -> 0}|\n",
      "+-----------------------+-------------------+-------------------+---------+------------------------------------------------------------------------------------------------------------------------------+-----------------------------------------------------------------------------------------------------------------------------------------------------------------------------------------------------------------------------------------------------------------------------------------------+\n",
      "\n"
     ]
    }
   ],
   "source": [
    "spark.sql(\"SELECT * FROM local.db.timeTravelTest.snapshots\").show(truncate=False)"
   ]
  },
  {
   "cell_type": "markdown",
   "id": "e4816d97",
   "metadata": {},
   "source": [
    "## ⏳ 5. Time Travel by Snapshot ID"
   ]
  },
  {
   "cell_type": "code",
   "execution_count": 7,
   "id": "d4927f8a",
   "metadata": {},
   "outputs": [
    {
     "name": "stdout",
     "output_type": "stream",
     "text": [
      "+---+-----+\n",
      "| id| name|\n",
      "+---+-----+\n",
      "|  1|Alpha|\n",
      "|  2| Beta|\n",
      "|  3|Gamma|\n",
      "+---+-----+\n",
      "\n"
     ]
    }
   ],
   "source": [
    "# Replace with actual snapshot ID\n",
    "spark.sql(\"\"\"\n",
    "SELECT * FROM local.db.timeTravelTest VERSION AS OF 6399747780325267945\n",
    "\"\"\").show()"
   ]
  },
  {
   "cell_type": "markdown",
   "id": "b67467b0",
   "metadata": {},
   "source": [
    "## 🕰️ 6. Time Travel by Timestamp"
   ]
  },
  {
   "cell_type": "code",
   "execution_count": 11,
   "id": "168f3895",
   "metadata": {},
   "outputs": [
    {
     "name": "stdout",
     "output_type": "stream",
     "text": [
      "+---+-----+\n",
      "| id| name|\n",
      "+---+-----+\n",
      "|  1|Alpha|\n",
      "|  2| Beta|\n",
      "+---+-----+\n",
      "\n"
     ]
    }
   ],
   "source": [
    "# Replace with actual timestamp\n",
    "spark.sql(\"\"\"\n",
    "SELECT * FROM local.db.timeTravelTest TIMESTAMP AS OF TIMESTAMP '2025-07-11 18:35:21'\n",
    "\"\"\").show()"
   ]
  },
  {
   "cell_type": "markdown",
   "id": "cadfa90e",
   "metadata": {},
   "source": [
    "## 🔍 7. Compare Data Between Versions"
   ]
  },
  {
   "cell_type": "code",
   "execution_count": null,
   "id": "31b55928",
   "metadata": {},
   "outputs": [],
   "source": [
    "df_v1 = spark.sql(\"SELECT * FROM local.db.timeTravelTest VERSION AS OF 123456789\")\n",
    "df_v2 = spark.sql(\"SELECT * FROM local.db.timeTravelTest VERSION AS OF 987654321\")\n",
    "\n",
    "df_diff = df_v2.subtract(df_v1)\n",
    "df_diff.show()"
   ]
  },
  {
   "cell_type": "markdown",
   "id": "adb99380",
   "metadata": {},
   "source": [
    "## 🔁 8. Rollback to Previous Snapshot"
   ]
  },
  {
   "cell_type": "code",
   "execution_count": null,
   "id": "d88c453d",
   "metadata": {},
   "outputs": [],
   "source": [
    "# Use SQL to rollback (can also use spark.sql)\n",
    "spark.sql(\"\"\"\n",
    "ALTER TABLE local.db.timeTravelTest\n",
    "    SET CURRENT SNAPSHOT = 123456789\n",
    "\"\"\")"
   ]
  },
  {
   "cell_type": "markdown",
   "id": "64712bc4",
   "metadata": {},
   "source": [
    "## 🧾 9. Show Table History"
   ]
  },
  {
   "cell_type": "code",
   "execution_count": 9,
   "id": "896789c4",
   "metadata": {},
   "outputs": [
    {
     "name": "stdout",
     "output_type": "stream",
     "text": [
      "+-----------------------+-------------------+-------------------+-------------------+\n",
      "|made_current_at        |snapshot_id        |parent_id          |is_current_ancestor|\n",
      "+-----------------------+-------------------+-------------------+-------------------+\n",
      "|2025-07-11 18:31:09.257|2893334066603151014|NULL               |true               |\n",
      "|2025-07-11 18:35:21.835|6399747780325267945|2893334066603151014|true               |\n",
      "+-----------------------+-------------------+-------------------+-------------------+\n",
      "\n"
     ]
    }
   ],
   "source": [
    "spark.sql(\"SELECT * FROM local.db.timeTravelTest.history\").show(truncate=False)"
   ]
  },
  {
   "cell_type": "markdown",
   "id": "b0b65abe",
   "metadata": {},
   "source": [
    "## 🧹 10. Expire Old Snapshots"
   ]
  },
  {
   "cell_type": "code",
   "execution_count": 12,
   "id": "89c29fc1",
   "metadata": {},
   "outputs": [
    {
     "ename": "AnalysisException",
     "evalue": "Cannot use catalog spark_catalog: not a ProcedureCatalog",
     "output_type": "error",
     "traceback": [
      "\u001b[0;31m---------------------------------------------------------------------------\u001b[0m",
      "\u001b[0;31mAnalysisException\u001b[0m                         Traceback (most recent call last)",
      "Cell \u001b[0;32mIn[12], line 1\u001b[0m\n\u001b[0;32m----> 1\u001b[0m \u001b[43mspark\u001b[49m\u001b[38;5;241;43m.\u001b[39;49m\u001b[43msql\u001b[49m\u001b[43m(\u001b[49m\u001b[38;5;124;43m\"\"\"\u001b[39;49m\n\u001b[1;32m      2\u001b[0m \u001b[38;5;124;43mCALL spark_catalog.system.expire_snapshots(\u001b[39;49m\n\u001b[1;32m      3\u001b[0m \u001b[38;5;124;43m    \u001b[39;49m\u001b[38;5;124;43m'\u001b[39;49m\u001b[38;5;124;43mlocal.db.timeTravelTest\u001b[39;49m\u001b[38;5;124;43m'\u001b[39;49m\u001b[38;5;124;43m,\u001b[39;49m\n\u001b[1;32m      4\u001b[0m \u001b[38;5;124;43m    TIMESTAMP => TIMESTAMP \u001b[39;49m\u001b[38;5;124;43m'\u001b[39;49m\u001b[38;5;124;43m2024-07-11 11:00:00\u001b[39;49m\u001b[38;5;124;43m'\u001b[39;49m\n\u001b[1;32m      5\u001b[0m \u001b[38;5;124;43m)\u001b[39;49m\n\u001b[1;32m      6\u001b[0m \u001b[38;5;124;43m\"\"\"\u001b[39;49m\u001b[43m)\u001b[49m\n",
      "File \u001b[0;32m/usr/local/spark/python/pyspark/sql/session.py:1631\u001b[0m, in \u001b[0;36mSparkSession.sql\u001b[0;34m(self, sqlQuery, args, **kwargs)\u001b[0m\n\u001b[1;32m   1627\u001b[0m         \u001b[38;5;28;01massert\u001b[39;00m \u001b[38;5;28mself\u001b[39m\u001b[38;5;241m.\u001b[39m_jvm \u001b[38;5;129;01mis\u001b[39;00m \u001b[38;5;129;01mnot\u001b[39;00m \u001b[38;5;28;01mNone\u001b[39;00m\n\u001b[1;32m   1628\u001b[0m         litArgs \u001b[38;5;241m=\u001b[39m \u001b[38;5;28mself\u001b[39m\u001b[38;5;241m.\u001b[39m_jvm\u001b[38;5;241m.\u001b[39mPythonUtils\u001b[38;5;241m.\u001b[39mtoArray(\n\u001b[1;32m   1629\u001b[0m             [_to_java_column(lit(v)) \u001b[38;5;28;01mfor\u001b[39;00m v \u001b[38;5;129;01min\u001b[39;00m (args \u001b[38;5;129;01mor\u001b[39;00m [])]\n\u001b[1;32m   1630\u001b[0m         )\n\u001b[0;32m-> 1631\u001b[0m     \u001b[38;5;28;01mreturn\u001b[39;00m DataFrame(\u001b[38;5;28;43mself\u001b[39;49m\u001b[38;5;241;43m.\u001b[39;49m\u001b[43m_jsparkSession\u001b[49m\u001b[38;5;241;43m.\u001b[39;49m\u001b[43msql\u001b[49m\u001b[43m(\u001b[49m\u001b[43msqlQuery\u001b[49m\u001b[43m,\u001b[49m\u001b[43m \u001b[49m\u001b[43mlitArgs\u001b[49m\u001b[43m)\u001b[49m, \u001b[38;5;28mself\u001b[39m)\n\u001b[1;32m   1632\u001b[0m \u001b[38;5;28;01mfinally\u001b[39;00m:\n\u001b[1;32m   1633\u001b[0m     \u001b[38;5;28;01mif\u001b[39;00m \u001b[38;5;28mlen\u001b[39m(kwargs) \u001b[38;5;241m>\u001b[39m \u001b[38;5;241m0\u001b[39m:\n",
      "File \u001b[0;32m/usr/local/spark/python/lib/py4j-0.10.9.7-src.zip/py4j/java_gateway.py:1322\u001b[0m, in \u001b[0;36mJavaMember.__call__\u001b[0;34m(self, *args)\u001b[0m\n\u001b[1;32m   1316\u001b[0m command \u001b[38;5;241m=\u001b[39m proto\u001b[38;5;241m.\u001b[39mCALL_COMMAND_NAME \u001b[38;5;241m+\u001b[39m\\\n\u001b[1;32m   1317\u001b[0m     \u001b[38;5;28mself\u001b[39m\u001b[38;5;241m.\u001b[39mcommand_header \u001b[38;5;241m+\u001b[39m\\\n\u001b[1;32m   1318\u001b[0m     args_command \u001b[38;5;241m+\u001b[39m\\\n\u001b[1;32m   1319\u001b[0m     proto\u001b[38;5;241m.\u001b[39mEND_COMMAND_PART\n\u001b[1;32m   1321\u001b[0m answer \u001b[38;5;241m=\u001b[39m \u001b[38;5;28mself\u001b[39m\u001b[38;5;241m.\u001b[39mgateway_client\u001b[38;5;241m.\u001b[39msend_command(command)\n\u001b[0;32m-> 1322\u001b[0m return_value \u001b[38;5;241m=\u001b[39m \u001b[43mget_return_value\u001b[49m\u001b[43m(\u001b[49m\n\u001b[1;32m   1323\u001b[0m \u001b[43m    \u001b[49m\u001b[43manswer\u001b[49m\u001b[43m,\u001b[49m\u001b[43m \u001b[49m\u001b[38;5;28;43mself\u001b[39;49m\u001b[38;5;241;43m.\u001b[39;49m\u001b[43mgateway_client\u001b[49m\u001b[43m,\u001b[49m\u001b[43m \u001b[49m\u001b[38;5;28;43mself\u001b[39;49m\u001b[38;5;241;43m.\u001b[39;49m\u001b[43mtarget_id\u001b[49m\u001b[43m,\u001b[49m\u001b[43m \u001b[49m\u001b[38;5;28;43mself\u001b[39;49m\u001b[38;5;241;43m.\u001b[39;49m\u001b[43mname\u001b[49m\u001b[43m)\u001b[49m\n\u001b[1;32m   1325\u001b[0m \u001b[38;5;28;01mfor\u001b[39;00m temp_arg \u001b[38;5;129;01min\u001b[39;00m temp_args:\n\u001b[1;32m   1326\u001b[0m     \u001b[38;5;28;01mif\u001b[39;00m \u001b[38;5;28mhasattr\u001b[39m(temp_arg, \u001b[38;5;124m\"\u001b[39m\u001b[38;5;124m_detach\u001b[39m\u001b[38;5;124m\"\u001b[39m):\n",
      "File \u001b[0;32m/usr/local/spark/python/pyspark/errors/exceptions/captured.py:185\u001b[0m, in \u001b[0;36mcapture_sql_exception.<locals>.deco\u001b[0;34m(*a, **kw)\u001b[0m\n\u001b[1;32m    181\u001b[0m converted \u001b[38;5;241m=\u001b[39m convert_exception(e\u001b[38;5;241m.\u001b[39mjava_exception)\n\u001b[1;32m    182\u001b[0m \u001b[38;5;28;01mif\u001b[39;00m \u001b[38;5;129;01mnot\u001b[39;00m \u001b[38;5;28misinstance\u001b[39m(converted, UnknownException):\n\u001b[1;32m    183\u001b[0m     \u001b[38;5;66;03m# Hide where the exception came from that shows a non-Pythonic\u001b[39;00m\n\u001b[1;32m    184\u001b[0m     \u001b[38;5;66;03m# JVM exception message.\u001b[39;00m\n\u001b[0;32m--> 185\u001b[0m     \u001b[38;5;28;01mraise\u001b[39;00m converted \u001b[38;5;28;01mfrom\u001b[39;00m \u001b[38;5;28;01mNone\u001b[39;00m\n\u001b[1;32m    186\u001b[0m \u001b[38;5;28;01melse\u001b[39;00m:\n\u001b[1;32m    187\u001b[0m     \u001b[38;5;28;01mraise\u001b[39;00m\n",
      "\u001b[0;31mAnalysisException\u001b[0m: Cannot use catalog spark_catalog: not a ProcedureCatalog"
     ]
    }
   ],
   "source": [
    "spark.sql(\"\"\"\n",
    "CALL spark_catalog.system.expire_snapshots(\n",
    "    'local.db.timeTravelTest',\n",
    "    TIMESTAMP => TIMESTAMP '2024-07-11 11:00:00'\n",
    ")\n",
    "\"\"\")"
   ]
  }
 ],
 "metadata": {
  "kernelspec": {
   "display_name": "Python 3 (ipykernel)",
   "language": "python",
   "name": "python3"
  }
 },
 "nbformat": 4,
 "nbformat_minor": 5
}
