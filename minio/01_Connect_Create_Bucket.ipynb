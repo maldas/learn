{
 "cells": [
  {
   "cell_type": "code",
   "execution_count": 1,
   "id": "71512de0-b104-403a-be61-0a81d9c3032b",
   "metadata": {},
   "outputs": [],
   "source": [
    "!pip install -q minio"
   ]
  },
  {
   "cell_type": "code",
   "execution_count": 2,
   "id": "632f031b-8c61-4e27-9c07-234be59de939",
   "metadata": {},
   "outputs": [],
   "source": [
    "from minio import Minio\n",
    "from minio.error import S3Error"
   ]
  },
  {
   "cell_type": "code",
   "execution_count": 3,
   "id": "e485f2f7-98ed-4df3-a80c-973869a2850e",
   "metadata": {},
   "outputs": [],
   "source": [
    "# Step 2: Define connection parameters\n",
    "\n",
    "# Replace these with your actual values\n",
    "MINIO_ENDPOINT = \"minio-api.c-5862d67.kyma.ondemand.com\"\n",
    "MINIO_ACCESS_KEY = \"minioadmin\"   # or from your secret\n",
    "MINIO_SECRET_KEY = \"minioadmin\"\n",
    "USE_SSL = True\n",
    "\n",
    "# Initialize the MinIO client\n",
    "minio_client = Minio(\n",
    "    MINIO_ENDPOINT,\n",
    "    access_key=MINIO_ACCESS_KEY,\n",
    "    secret_key=MINIO_SECRET_KEY,\n",
    "    secure=USE_SSL\n",
    ")\n"
   ]
  },
  {
   "cell_type": "code",
   "execution_count": 4,
   "id": "3f40eefb-feda-4811-a013-7a8c1a7af7fd",
   "metadata": {},
   "outputs": [
    {
     "name": "stdout",
     "output_type": "stream",
     "text": [
      "❌ Failed to create bucket: S3 operation failed; code: BucketAlreadyOwnedByYou, message: Your previous request to create the named bucket succeeded and you already own it., resource: /kyma-bucket-demo, request_id: 18518EAC2ECF7A7C, host_id: dd9025bab4ad464b049177c95eb6ebf374d3b3fd1af9251148b658df7ac2e3e8, bucket_name: kyma-bucket-demo\n"
     ]
    }
   ],
   "source": [
    "# Step 3: Create a new bucket\n",
    "\n",
    "BUCKET_NAME = \"kyma-bucket-demo\"\n",
    "\n",
    "try:\n",
    "    if not minio_client.bucket_exists(BUCKET_NAME):\n",
    "        minio_client.make_bucket(BUCKET_NAME)\n",
    "        print(f\"✅ Bucket '{BUCKET_NAME}' created successfully.\")\n",
    "    else:\n",
    "        print(f\"ℹ️ Bucket '{BUCKET_NAME}' already exists.\")\n",
    "except S3Error as err:\n",
    "    print(f\"❌ Failed to create bucket: {err}\")"
   ]
  },
  {
   "cell_type": "code",
   "execution_count": 7,
   "id": "acb166b5-5b88-4b22-b42b-a06a4b3b984a",
   "metadata": {},
   "outputs": [
    {
     "name": "stdout",
     "output_type": "stream",
     "text": [
      "Collecting boto3\n",
      "  Downloading boto3-1.39.4-py3-none-any.whl.metadata (6.6 kB)\n",
      "Collecting botocore<1.40.0,>=1.39.4 (from boto3)\n",
      "  Downloading botocore-1.39.4-py3-none-any.whl.metadata (5.7 kB)\n",
      "Collecting jmespath<2.0.0,>=0.7.1 (from boto3)\n",
      "  Downloading jmespath-1.0.1-py3-none-any.whl.metadata (7.6 kB)\n",
      "Collecting s3transfer<0.14.0,>=0.13.0 (from boto3)\n",
      "  Downloading s3transfer-0.13.0-py3-none-any.whl.metadata (1.7 kB)\n",
      "Requirement already satisfied: python-dateutil<3.0.0,>=2.1 in /opt/conda/lib/python3.11/site-packages (from botocore<1.40.0,>=1.39.4->boto3) (2.9.0)\n",
      "Requirement already satisfied: urllib3!=2.2.0,<3,>=1.25.4 in /opt/conda/lib/python3.11/site-packages (from botocore<1.40.0,>=1.39.4->boto3) (2.2.3)\n",
      "Requirement already satisfied: six>=1.5 in /opt/conda/lib/python3.11/site-packages (from python-dateutil<3.0.0,>=2.1->botocore<1.40.0,>=1.39.4->boto3) (1.16.0)\n",
      "Downloading boto3-1.39.4-py3-none-any.whl (139 kB)\n",
      "Downloading botocore-1.39.4-py3-none-any.whl (13.8 MB)\n",
      "\u001b[2K   \u001b[90m━━━━━━━━━━━━━━━━━━━━━━━━━━━━━━━━━━━━━━━━\u001b[0m \u001b[32m13.8/13.8 MB\u001b[0m \u001b[31m210.3 MB/s\u001b[0m eta \u001b[36m0:00:00\u001b[0m\n",
      "\u001b[?25hDownloading jmespath-1.0.1-py3-none-any.whl (20 kB)\n",
      "Downloading s3transfer-0.13.0-py3-none-any.whl (85 kB)\n",
      "Installing collected packages: jmespath, botocore, s3transfer, boto3\n",
      "Successfully installed boto3-1.39.4 botocore-1.39.4 jmespath-1.0.1 s3transfer-0.13.0\n"
     ]
    }
   ],
   "source": [
    "!pip install boto3"
   ]
  },
  {
   "cell_type": "code",
   "execution_count": 8,
   "id": "158f1a62-5ee9-4e5c-9470-90531c3b006e",
   "metadata": {},
   "outputs": [],
   "source": [
    "import boto3\n",
    "\n",
    "MINIO_ENDPOINT = \"https://minio-api.c-5862d67.kyma.ondemand.com\"\n",
    "MINIO_ACCESS_KEY = \"minioadmin\"\n",
    "MINIO_SECRET_KEY = \"minioadmin\"\n",
    "\n",
    "session = boto3.session.Session()\n",
    "s3 = session.client(\n",
    "    service_name='s3',\n",
    "    endpoint_url=MINIO_ENDPOINT,\n",
    "    aws_access_key_id=MINIO_ACCESS_KEY,\n",
    "    aws_secret_access_key=MINIO_SECRET_KEY\n",
    ")\n"
   ]
  },
  {
   "cell_type": "code",
   "execution_count": 9,
   "id": "3c432e85-19e1-47da-8767-fcf9c3a5662d",
   "metadata": {},
   "outputs": [
    {
     "name": "stdout",
     "output_type": "stream",
     "text": [
      "['kyma-bucket-demo']\n"
     ]
    }
   ],
   "source": [
    "response = s3.list_buckets()\n",
    "print([bucket[\"Name\"] for bucket in response[\"Buckets\"]])"
   ]
  },
  {
   "cell_type": "code",
   "execution_count": null,
   "id": "2c4fd040-a144-4c04-9e45-7674f8cb9813",
   "metadata": {},
   "outputs": [],
   "source": []
  }
 ],
 "metadata": {
  "kernelspec": {
   "display_name": "Python 3 (ipykernel)",
   "language": "python",
   "name": "python3"
  },
  "language_info": {
   "codemirror_mode": {
    "name": "ipython",
    "version": 3
   },
   "file_extension": ".py",
   "mimetype": "text/x-python",
   "name": "python",
   "nbconvert_exporter": "python",
   "pygments_lexer": "ipython3",
   "version": "3.11.10"
  }
 },
 "nbformat": 4,
 "nbformat_minor": 5
}
