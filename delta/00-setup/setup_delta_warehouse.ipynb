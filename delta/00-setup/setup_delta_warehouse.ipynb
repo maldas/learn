{
 "cells": [
  {
   "cell_type": "code",
   "execution_count": 5,
   "id": "be10658d",
   "metadata": {},
   "outputs": [],
   "source": [
    "from pyspark.sql import SparkSession\n",
    "\n",
    "# Create or get SparkSession with Delta support\n",
    "spark = SparkSession.builder \\\n",
    "    .appName(\"DeltaLakeSetup\") \\\n",
    "    .config(\"spark.sql.extensions\", \"io.delta.sql.DeltaSparkSessionExtension\") \\\n",
    "    .config(\"spark.sql.catalog.spark_catalog\", \"org.apache.spark.sql.delta.catalog.DeltaCatalog\") \\\n",
    "    .config(\"spark.sql.shuffle.partitions\", \"1\") \\\n",
    "    .config(\"spark.sql.warehouse.dir\", \"/home/jovyan/delta_warehouse\") \\\n",
    "    .getOrCreate()"
   ]
  },
  {
   "cell_type": "code",
   "execution_count": 7,
   "id": "a9576870",
   "metadata": {},
   "outputs": [
    {
     "name": "stdout",
     "output_type": "stream",
     "text": [
      "+--------------+\n",
      "|     namespace|\n",
      "+--------------+\n",
      "|       default|\n",
      "|delta_training|\n",
      "+--------------+\n",
      "\n"
     ]
    }
   ],
   "source": [
    "# setup_delta_warehouse.ipynb\n",
    "\n",
    "spark.sql(\"CREATE DATABASE IF NOT EXISTS delta_training LOCATION '{}'\".format(\"/home/jovyan/delta_warehouse\"))\n",
    "\n",
    "# Show databases to confirm\n",
    "spark.sql(\"SHOW DATABASES\").show()\n"
   ]
  }
 ],
 "metadata": {
  "kernelspec": {
   "display_name": "Python 3 (ipykernel)",
   "language": "python",
   "name": "python3"
  },
  "language_info": {
   "codemirror_mode": {
    "name": "ipython",
    "version": 3
   },
   "file_extension": ".py",
   "mimetype": "text/x-python",
   "name": "python",
   "nbconvert_exporter": "python",
   "pygments_lexer": "ipython3",
   "version": "3.11.6"
  }
 },
 "nbformat": 4,
 "nbformat_minor": 5
}
