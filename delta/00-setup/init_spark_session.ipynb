{
 "cells": [
  {
   "cell_type": "markdown",
   "id": "7cebac71",
   "metadata": {},
   "source": [
    "# Initialize Spark Session with Delta Lake Support\n",
    "\n",
    "This notebook demonstrates how to initialize a SparkSession with Delta Lake support, check the Spark version, and run a basic Spark command."
   ]
  },
  {
   "cell_type": "code",
   "execution_count": null,
   "id": "02730078",
   "metadata": {},
   "outputs": [],
   "source": [
    "from pyspark.sql import SparkSession\n",
    "\n",
    "# Create or get SparkSession with Delta support\n",
    "spark = SparkSession.builder \\\n",
    "    .appName(\"DeltaLakeSetup\") \\\n",
    "    .config(\"spark.sql.extensions\", \"io.delta.sql.DeltaSparkSessionExtension\") \\\n",
    "    .config(\"spark.sql.catalog.spark_catalog\", \"org.apache.spark.sql.delta.catalog.DeltaCatalog\") \\\n",
    "    .config(\"spark.sql.shuffle.partitions\", \"1\") \\\n",
    "    .getOrCreate()"
   ]
  },
  {
   "cell_type": "markdown",
   "id": "70e00861",
   "metadata": {},
   "source": [
    "## Check Spark Version\n",
    "\n",
    "Print the current Spark version to confirm the session is active."
   ]
  },
  {
   "cell_type": "code",
   "execution_count": null,
   "id": "8d452524",
   "metadata": {},
   "outputs": [],
   "source": [
    "print(\"Spark Version:\", spark.version)"
   ]
  },
  {
   "cell_type": "markdown",
   "id": "fb9631f0",
   "metadata": {},
   "source": [
    "## Test Spark Command\n",
    "\n",
    "Run a simple command to verify the Spark session is working."
   ]
  },
  {
   "cell_type": "code",
   "execution_count": null,
   "id": "9a6496e5",
   "metadata": {},
   "outputs": [],
   "source": [
    "df = spark.range(5)\n",
    "df.show()"
   ]
  }
 ],
 "metadata": {
  "kernelspec": {
   "display_name": "Python 3 (ipykernel)",
   "language": "python",
   "name": "python3"
  }
 },
 "nbformat": 4,
 "nbformat_minor": 5
}
