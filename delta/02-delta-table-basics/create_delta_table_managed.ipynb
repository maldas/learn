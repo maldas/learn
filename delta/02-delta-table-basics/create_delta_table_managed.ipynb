{
 "cells": [
  {
   "cell_type": "code",
   "execution_count": 8,
   "id": "743bcfad",
   "metadata": {},
   "outputs": [],
   "source": [
    "# create_delta_table_managed.ipynb\n",
    "\n",
    "from pyspark.sql import SparkSession\n",
    "\n",
    "# Create a DataFrame\n",
    "data = [(1, \"Alice\"), (2, \"Bob\"), (3, \"Charlie\")]\n",
    "df = spark.createDataFrame(data, [\"id\", \"name\"])\n",
    "\n",
    "# Write as managed Delta table\n",
    "df.write.format(\"delta\").mode(\"overwrite\").saveAsTable(\"delta_training.people_managed\")\n",
    "\n",
    "# Query the Delta table\n",
    "spark.sql(\"SELECT * FROM delta_training.people_managed\").show()\n"
   ]
  }
 ],
 "metadata": {
  "kernelspec": {
   "display_name": "Python 3 (ipykernel)",
   "language": "python",
   "name": "python3"
  }
 },
 "nbformat": 4,
 "nbformat_minor": 5
}
