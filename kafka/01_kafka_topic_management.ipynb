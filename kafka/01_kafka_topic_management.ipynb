{
 "cells": [
  {
   "cell_type": "code",
   "execution_count": 1,
   "id": "4095a66c",
   "metadata": {},
   "outputs": [],
   "source": [
    "from kafka.admin import KafkaAdminClient, NewTopic"
   ]
  },
  {
   "cell_type": "code",
   "execution_count": 4,
   "id": "db492349",
   "metadata": {},
   "outputs": [],
   "source": [
    "KAFKA_BOOTSTRAP_SERVERS = ['kafka.analytics.svc.cluster.local:9092']\n",
    "TOPIC_NAME = 'test-topic'"
   ]
  },
  {
   "cell_type": "code",
   "execution_count": 5,
   "id": "641bc111",
   "metadata": {},
   "outputs": [],
   "source": [
    "admin_client = KafkaAdminClient(bootstrap_servers=KAFKA_BOOTSTRAP_SERVERS)"
   ]
  },
  {
   "cell_type": "code",
   "execution_count": 6,
   "id": "680e9624",
   "metadata": {},
   "outputs": [
    {
     "name": "stdout",
     "output_type": "stream",
     "text": [
      "Available Topics:\n",
      "test-topic\n",
      "__consumer_offsets\n"
     ]
    }
   ],
   "source": [
    "# List topics\n",
    "topics = admin_client.list_topics()\n",
    "print(\"Available Topics:\")\n",
    "for topic in topics:\n",
    "    print(topic)"
   ]
  },
  {
   "cell_type": "code",
   "execution_count": 7,
   "id": "31dc5969",
   "metadata": {},
   "outputs": [
    {
     "name": "stdout",
     "output_type": "stream",
     "text": [
      "Topic creation skipped or failed: [Error 36] TopicAlreadyExistsError: Request 'CreateTopicsRequest_v3(create_topic_requests=[(topic='test-topic', num_partitions=1, replication_factor=1, replica_assignment=[], configs=[])], timeout=30000, validate_only=False)' failed with response 'CreateTopicsResponse_v3(throttle_time_ms=0, topic_errors=[(topic='test-topic', error_code=36, error_message=\"Topic 'test-topic' already exists.\")])'.\n"
     ]
    }
   ],
   "source": [
    "# Step 4: Create a Kafka Topic (skip if already exists)\n",
    "\n",
    "try:\n",
    "    topic = NewTopic(name=TOPIC_NAME, num_partitions=1, replication_factor=1)\n",
    "    admin_client.create_topics([topic])\n",
    "    print(f\"Topic '{TOPIC_NAME}' created.\")\n",
    "except Exception as e:\n",
    "    print(f\"Topic creation skipped or failed: {e}\")\n"
   ]
  },
  {
   "cell_type": "code",
   "execution_count": 10,
   "id": "30afb9c8",
   "metadata": {},
   "outputs": [
    {
     "data": {
      "text/plain": [
       "DeleteTopicsResponse_v3(throttle_time_ms=0, topic_error_codes=[(topic='test-topic', error_code=0)])"
      ]
     },
     "execution_count": 10,
     "metadata": {},
     "output_type": "execute_result"
    }
   ],
   "source": [
    "admin_client.delete_topics([\"test-topic\"])"
   ]
  }
 ],
 "metadata": {
  "kernelspec": {
   "display_name": "Python 3 (ipykernel)",
   "language": "python",
   "name": "python3"
  },
  "language_info": {
   "codemirror_mode": {
    "name": "ipython",
    "version": 3
   },
   "file_extension": ".py",
   "mimetype": "text/x-python",
   "name": "python",
   "nbconvert_exporter": "python",
   "pygments_lexer": "ipython3",
   "version": "3.11.10"
  }
 },
 "nbformat": 4,
 "nbformat_minor": 5
}
